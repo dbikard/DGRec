{
 "cells": [
  {
   "cell_type": "markdown",
   "metadata": {},
   "source": [
    "# core\n",
    "\n",
    "> Functions to go a fastq file to a list of genotypes"
   ]
  },
  {
   "cell_type": "code",
   "execution_count": null,
   "metadata": {},
   "outputs": [
    {
     "name": "stdout",
     "output_type": "stream",
     "text": [
      "The autoreload extension is already loaded. To reload it, use:\n",
      "  %reload_ext autoreload\n"
     ]
    }
   ],
   "source": [
    "#| hide\n",
    "%load_ext autoreload\n",
    "%autoreload 2"
   ]
  },
  {
   "cell_type": "code",
   "execution_count": null,
   "metadata": {},
   "outputs": [],
   "source": [
    "#| default_exp core"
   ]
  },
  {
   "cell_type": "code",
   "execution_count": null,
   "metadata": {},
   "outputs": [],
   "source": [
    "#| hide\n",
    "from nbdev.showdoc import *\n"
   ]
  },
  {
   "cell_type": "code",
   "execution_count": null,
   "metadata": {},
   "outputs": [],
   "source": [
    "#| export\n",
    "from fastcore.basics import *\n",
    "from Bio import SeqIO\n",
    "from Bio import pairwise2\n",
    "import gzip as gz\n",
    "import os\n",
    "from collections import defaultdict, Counter\n",
    "import numpy as np\n",
    "import itertools\n",
    "import click"
   ]
  },
  {
   "cell_type": "code",
   "execution_count": null,
   "metadata": {},
   "outputs": [
    {
     "data": {
      "text/plain": [
       "['sacB_ref.fasta', '__pycache__', 'sacB_example.fastq.gz', '__init__.py']"
      ]
     },
     "execution_count": null,
     "metadata": {},
     "output_type": "execute_result"
    }
   ],
   "source": [
    "#| hide\n",
    "from DGRec.example_data import get_example_data_dir\n",
    "data_path=get_example_data_dir()\n",
    "os.listdir(data_path)"
   ]
  },
  {
   "cell_type": "code",
   "execution_count": null,
   "metadata": {},
   "outputs": [],
   "source": [
    "#| export\n",
    "def align2mut(align):\n",
    "    \"\"\"Converts a sequence alignment result from Bio.pairwise2.Align.globalms into a genotype string.\n",
    "    Positions are those of the alignment.\"\"\"\n",
    "    res=[]\n",
    "    for i in range(align.end):\n",
    "        if align.seqA[i]!=align.seqB[i]:\n",
    "            mut=(align.seqA[i],i,align.seqB[i])\n",
    "            res.append(mut)\n",
    "    return res"
   ]
  },
  {
   "cell_type": "code",
   "execution_count": null,
   "metadata": {},
   "outputs": [
    {
     "data": {
      "text/plain": [
       "[('-', 4, 'A'), ('-', 8, 'T')]"
      ]
     },
     "execution_count": null,
     "metadata": {},
     "output_type": "execute_result"
    }
   ],
   "source": [
    "seqA = \"ATCCCGGCAGC\"\n",
    "seqB = \"ATCCACGGTCAGC\"\n",
    "align=pairwise2.align.globalms(seqA,seqB, 2, -1, -1, -.5, one_alignment_only=True)[0]\n",
    "align2mut(align)"
   ]
  },
  {
   "cell_type": "code",
   "execution_count": null,
   "metadata": {},
   "outputs": [],
   "source": [
    "#| export\n",
    "def mut_rix(mutations):\n",
    "    \"\"\"Reindexes the positions of the mutations to go from \n",
    "    their position in the sequence alignment to their position in the original sequence.\"\"\"\n",
    "    ph=0\n",
    "    res_rix=[]\n",
    "    for mut in mutations:\n",
    "        rix=mut[1]+ph\n",
    "        res_rix.append((mut[0],rix,mut[2]))\n",
    "        if mut[0]=='-':\n",
    "            ph-=1\n",
    "            \n",
    "    return res_rix"
   ]
  },
  {
   "cell_type": "code",
   "execution_count": null,
   "metadata": {},
   "outputs": [
    {
     "name": "stdout",
     "output_type": "stream",
     "text": [
      "ATCC-CGG-CAGC\n",
      "|||| ||| ||||\n",
      "ATCCACGGTCAGC\n",
      "  Score=20\n",
      "\n",
      "Output of align2mut:\n",
      "[('-', 4, 'A'), ('-', 8, 'T')]\n",
      "Output of mut_rix:\n",
      "[('-', 4, 'A'), ('-', 7, 'T')]\n"
     ]
    }
   ],
   "source": [
    "from Bio.pairwise2 import format_alignment\n",
    "seqA = \"ATCCCGGCAGC\"\n",
    "seqB = \"ATCCACGGTCAGC\"\n",
    "align=pairwise2.align.globalms(seqA,seqB, 2, -1, -1, -.5, one_alignment_only=True)[0]\n",
    "print(format_alignment(*align))\n",
    "\n",
    "mutations=align2mut(align) \n",
    "print(\"Output of align2mut:\")\n",
    "print(mutations)\n",
    "\n",
    "print(\"Output of mut_rix:\")\n",
    "print(mut_rix(mutations))"
   ]
  },
  {
   "cell_type": "code",
   "execution_count": null,
   "metadata": {},
   "outputs": [],
   "source": [
    "#| export\n",
    "def get_mutations(seqA,seqB):\n",
    "    \"\"\"Aligns two sequences and returns a genotype string.\n",
    "    The string is a comma separated list of mutations.\n",
    "    \"\"\"\n",
    "    align=pairwise2.align.globalms(seqA,seqB, 2, -1, -1, -.5, one_alignment_only=True)[0]\n",
    "    mutations=align2mut(align) \n",
    "    mutations=mut_rix(mutations)\n",
    "    return mutations"
   ]
  },
  {
   "cell_type": "code",
   "execution_count": null,
   "metadata": {},
   "outputs": [
    {
     "name": "stdout",
     "output_type": "stream",
     "text": [
      "ATCC-CGG-CAGCAGGT\n",
      "|||| ||| |||||.||\n",
      "ATCCACGGTCAGCACGT\n",
      "  Score=25\n",
      "\n"
     ]
    },
    {
     "data": {
      "text/plain": [
       "[('-', 4, 'A'), ('-', 7, 'T'), ('G', 12, 'C')]"
      ]
     },
     "execution_count": null,
     "metadata": {},
     "output_type": "execute_result"
    }
   ],
   "source": [
    "seqA = \"ATCCCGGCAGCAGGT\"\n",
    "seqB = \"ATCCACGGTCAGCACGT\"\n",
    "align=pairwise2.align.globalms(seqA,seqB, 2, -1, -1, -.5, one_alignment_only=True)[0]\n",
    "print(format_alignment(*align))\n",
    "\n",
    "get_mutations(seqA,seqB)"
   ]
  },
  {
   "cell_type": "code",
   "execution_count": null,
   "metadata": {},
   "outputs": [],
   "source": [
    "#| export\n",
    "\n",
    "def mut_to_str(mutations: list):\n",
    "    \"\"\"Converts list of mutations to a comma separated string\"\"\"\n",
    "    mut_str_list=[''.join(map(str,mut)) for mut in mutations]\n",
    "    mut_str=','.join(mut_str_list)\n",
    "    return mut_str"
   ]
  },
  {
   "cell_type": "code",
   "execution_count": null,
   "metadata": {},
   "outputs": [
    {
     "name": "stdout",
     "output_type": "stream",
     "text": [
      "[('-', 4, 'A'), ('-', 7, 'T'), ('G', 12, 'C')]\n"
     ]
    },
    {
     "data": {
      "text/plain": [
       "'-4A,-7T,G12C'"
      ]
     },
     "execution_count": null,
     "metadata": {},
     "output_type": "execute_result"
    }
   ],
   "source": [
    "mutations = get_mutations(seqA,seqB)\n",
    "print(mutations)\n",
    "mut_to_str(mutations)"
   ]
  },
  {
   "cell_type": "code",
   "execution_count": null,
   "metadata": {},
   "outputs": [],
   "source": [
    "#| export\n",
    "\n",
    "def get_UMI_genotype(fastq_path: str, #path to the input fastq file\n",
    "                     ref_seq: str, #sequence of the reference amplicon\n",
    "                     umi_size: int = 10, #number of nucleotides at the begining of the read that will be used as the UMI\n",
    "                     quality_threshold: int = 30, #threshold value used to filter out reads of poor average quality\n",
    "                     ignore_pos: list = [], #list of positions that are ignored in the genotype\n",
    "                     ) -> dict:\n",
    "    \n",
    "    \"\"\"Takes as input a fastq_file of single read amplicon sequencing, and a reference amplicon sequence.\n",
    "       Returns a dictionnary containing as keys UMIs and as values a list of all genotype strings read for that UMI.\n",
    "    \"\"\"\n",
    "    with gz.open(fastq_path,'rt') as handle:\n",
    "        reads=SeqIO.parse(handle,\"fastq\")\n",
    "        n_reads=0\n",
    "        n_reads_pass_Qfilter=0\n",
    "        n_reads_aligned=0\n",
    "        UMI_dict=defaultdict(list,{})\n",
    "        for r in reads:\n",
    "            n_reads+=1\n",
    "            meanScore=np.mean(r.letter_annotations['phred_quality'])\n",
    "\n",
    "            if meanScore>quality_threshold:\n",
    "                n_reads_pass_Qfilter+=1\n",
    "                umi=str(r.seq[:umi_size])\n",
    "                mutations=get_mutations(ref_seq,r.seq[umi_size:])\n",
    "                if ignore_pos:\n",
    "                    mutations = [m for m in mutations if m[1] not in ignore_pos]\n",
    "                n_mut=len(mutations)\n",
    "                if n_mut<15: #more than 10 mutation is almost certainly crap\n",
    "                    n_reads_aligned+=1\n",
    "                    UMI_dict[umi].append(mut_to_str(mutations))\n",
    "    \n",
    "    log='n reads:\\t{}\\nn_reads pass filter:\\t{}\\nn_reads aligned:\\t{}\\n'.format(n_reads,n_reads_pass_Qfilter,n_reads_aligned)\n",
    "    log+=f\"Number of UMIs: {len(UMI_dict)}\\n\"\n",
    "    print(log)\n",
    "    return UMI_dict"
   ]
  },
  {
   "cell_type": "code",
   "execution_count": null,
   "metadata": {},
   "outputs": [
    {
     "name": "stdout",
     "output_type": "stream",
     "text": [
      "n reads:\t1000\n",
      "n_reads pass filter:\t847\n",
      "n_reads aligned:\t824\n",
      "Number of UMIs: 814\n",
      "\n",
      "GCATANCTCA ['A61G,-63T,A76T,A91T']\n",
      "CGCATNTATA ['']\n",
      "CCTTGNAGTA ['']\n",
      "GGCGCNAGAA ['']\n",
      "TCTCTTGTGA ['']\n",
      "ATTACAGAAT ['']\n",
      "CTTTTACTAT ['']\n",
      "TCAAAGTTTT ['A79T,A91G']\n",
      "TTAGCTCATA ['']\n",
      "TCATAATGTA ['']\n",
      "ATGTGCGGAT ['']\n",
      "TGTGTTTATA ['']\n",
      "CCATACATCC ['']\n",
      "AGGGACGTTT ['A61G,A72G,A76G,A79T']\n",
      "GTGTAATAGC ['']\n",
      "ATGTCTTTTA ['']\n",
      "TATCGGTAGT ['']\n",
      "GTCGGGGGGG ['']\n",
      "AAGTGGCACA ['']\n",
      "AATAGAACCT ['T108A,G127T,G132T']\n"
     ]
    }
   ],
   "source": [
    "fastq_file=\"sacB_example.fastq.gz\"\n",
    "fastq_path=os.path.join(data_path,fastq_file)\n",
    "\n",
    "read_ref_file=\"sacB_ref.fasta\"\n",
    "ref=next(SeqIO.parse(os.path.join(data_path,read_ref_file),\"fasta\"))\n",
    "ref_seq=str(ref.seq)\n",
    "\n",
    "UMI_dict = get_UMI_genotype(fastq_path, ref_seq, ignore_pos=[0,1,2,138,139,140,141])\n",
    "\n",
    "for umi in itertools.islice(UMI_dict,20):\n",
    "    print(umi, UMI_dict[umi])"
   ]
  },
  {
   "cell_type": "code",
   "execution_count": null,
   "metadata": {},
   "outputs": [],
   "source": [
    "#| export\n",
    "\n",
    "def correct_UMI_genotypes(UMI_dict: dict, #the output of the get_UMI_genotype function\n",
    "                          reads_thr=2 #only keep UMIs for which we have more than reads_thr reads\n",
    "                          ) -> dict:\n",
    "    \"\"\"Keeps only the genotype with the most reads for each UMI.\n",
    "    Returns a dictionary with UMIs as keys and a tuple as value: (genotype string, number of reads)\n",
    "    \"\"\"\n",
    "    UMI_gen_dict={}\n",
    "    for umi in UMI_dict:\n",
    "        N=len(UMI_dict[umi])\n",
    "        if N>=reads_thr: #only consider umis for which we have more than reads_thr reads\n",
    "            gen_counter=Counter(UMI_dict[umi])\n",
    "            gen=sorted(list(gen_counter.items()),key=lambda x: x[1], reverse=True)[0] #only keep the genotype with the most reads for this umi\n",
    "            UMI_gen_dict[umi]=gen\n",
    "\n",
    "    return UMI_gen_dict"
   ]
  },
  {
   "cell_type": "code",
   "execution_count": null,
   "metadata": {},
   "outputs": [
    {
     "data": {
      "text/plain": [
       "{'CTCCGGGGAG': ('', 2),\n",
       " 'TGCTTGAGTG': ('A79T', 2),\n",
       " 'AGGGCGGGCT': ('', 2),\n",
       " 'ATTTCTGTTT': ('', 2),\n",
       " 'TGGGGGGGCT': ('', 2),\n",
       " 'GTTAGGGTCT': ('C24G', 1),\n",
       " 'GATTGGTAGA': ('', 2),\n",
       " 'GAACTCTAGT': ('', 2),\n",
       " 'TAACTAATCG': ('A79G,A86G,A91G', 2),\n",
       " 'GTTGTTCAGT': ('A68C,A72G,A79G,A91G,G94A', 1)}"
      ]
     },
     "execution_count": null,
     "metadata": {},
     "output_type": "execute_result"
    }
   ],
   "source": [
    "correct_UMI_genotypes(UMI_dict)"
   ]
  },
  {
   "cell_type": "code",
   "execution_count": null,
   "metadata": {},
   "outputs": [],
   "source": [
    "#| export\n",
    "\n",
    "def genotype_UMI_counter(UMI_gen_dict):\n",
    "    \"\"\"Takes as input the output of correct_UMI_genotypes() and \n",
    "    returns a list of genotypes sorted by the number of UMIs detected corresponding that each genotype.\"\"\"\n",
    "    umi_counter=Counter([gen for gen,n in UMI_gen_dict.values()])\n",
    "    gen_sorted_list=sorted(list(umi_counter.items()),key=lambda x: x[1], reverse=True)\n",
    "    return gen_sorted_list\n"
   ]
  },
  {
   "cell_type": "code",
   "execution_count": null,
   "metadata": {},
   "outputs": [
    {
     "name": "stdout",
     "output_type": "stream",
     "text": [
      "675\t\n",
      "3\tC56A\n",
      "3\tA76G\n",
      "3\tA91G\n",
      "3\tA91T\n",
      "2\tC69T\n",
      "2\tT122A\n",
      "2\tA91C\n",
      "2\tA105G\n",
      "2\tC116A\n",
      "2\tT60A\n",
      "2\tT59A\n",
      "2\tA68G\n",
      "2\tT134A\n",
      "1\tA61G,-63T,A76T,A91T\n",
      "1\tA79T,A91G\n",
      "1\tA61G,A72G,A76G,A79T\n",
      "1\tT108A,G127T,G132T\n",
      "1\tA48T,A86G\n",
      "1\tA61T,A68T,A72G,A79C,A91G\n"
     ]
    }
   ],
   "source": [
    "UMI_gen_dict=correct_UMI_genotypes(UMI_dict, reads_thr=0)\n",
    "gen_list = genotype_UMI_counter(UMI_gen_dict)\n",
    "for g in gen_list[:20]:\n",
    "    print(f\"{g[1]}\\t{g[0]}\")"
   ]
  },
  {
   "cell_type": "code",
   "execution_count": null,
   "metadata": {},
   "outputs": [],
   "source": [
    "#| export\n",
    "\n",
    "def get_genotypes(fastq_path: str, #path to the input fastq file\n",
    "                    ref_seq: str, #sequence of the reference amplicon\n",
    "                    umi_size: int = 10, #number of nucleotides at the begining of the read that will be used as the UMI\n",
    "                    quality_threshold: int = 30, #threshold value used to filter out reads of poor average quality\n",
    "                    ignore_pos: list = [], #list of positions that are ignored in the genotype\n",
    "                    reads_thr: int = 0, #minimum number of reads required to take a UMI into account. Using a number >2 enables to perform error corrects for UMIs with multiple reads.\n",
    "                    ):\n",
    "    \"\"\"Putting things together in a single wrapper function that takes the fastq as input and returns the list of genotypes.\"\"\"\n",
    "    UMI_dict = get_UMI_genotype(fastq_path, ref_seq, umi_size, quality_threshold, ignore_pos)\n",
    "    UMI_gen_dict=correct_UMI_genotypes(UMI_dict, reads_thr)\n",
    "    gen_list = genotype_UMI_counter(UMI_gen_dict)\n",
    "    print(\"Number of genotypes:\", len(gen_list))\n",
    "    return gen_list\n",
    "    "
   ]
  },
  {
   "cell_type": "code",
   "execution_count": null,
   "metadata": {},
   "outputs": [
    {
     "name": "stdout",
     "output_type": "stream",
     "text": [
      "n reads:\t1000\n",
      "n_reads pass filter:\t847\n",
      "n_reads aligned:\t824\n",
      "Number of UMIs: 814\n",
      "\n",
      "Number of genotypes: 123\n",
      "675\t\n",
      "3\tC56A\n",
      "3\tA76G\n",
      "3\tA91G\n",
      "3\tA91T\n",
      "2\tC69T\n",
      "2\tT122A\n",
      "2\tA91C\n",
      "2\tA105G\n",
      "2\tC116A\n",
      "2\tT60A\n",
      "2\tT59A\n",
      "2\tA68G\n",
      "2\tT134A\n",
      "1\tA61G,-63T,A76T,A91T\n",
      "1\tA79T,A91G\n",
      "1\tA61G,A72G,A76G,A79T\n",
      "1\tT108A,G127T,G132T\n",
      "1\tA48T,A86G\n",
      "1\tA61T,A68T,A72G,A79C,A91G\n"
     ]
    }
   ],
   "source": [
    "fastq_file=\"sacB_example.fastq.gz\"\n",
    "fastq_path=os.path.join(data_path,fastq_file)\n",
    "read_ref_file=\"sacB_ref.fasta\"\n",
    "ref=next(SeqIO.parse(os.path.join(data_path,read_ref_file),\"fasta\"))\n",
    "ref_seq=str(ref.seq)\n",
    "gen_list = get_genotypes(fastq_path, ref_seq, ignore_pos=[0,1,2,138,139,140,141])\n",
    "for g in gen_list[:20]:\n",
    "    print(f\"{g[1]}\\t{g[0]}\")"
   ]
  },
  {
   "cell_type": "code",
   "execution_count": null,
   "metadata": {},
   "outputs": [],
   "source": [
    "#| export\n",
    "#Commande line function\n",
    "@click.command()\n",
    "@click.argument('fastq', type=click.Path(exists=True))\n",
    "@click.argument('ref', type=click.Path(exists=True))\n",
    "@click.option('--umi_size', '-u', default=10, help=\"Number of nucleotides at the begining of the read that will be used as the UMI\")\n",
    "@click.option('--quality_threshold', '-q', default=10, help=\"threshold value used to filter out reads of poor average quality\")\n",
    "@click.option('--ignore_pos', '-i', default=[], multiple=True, help=\"list of positions that are ignored in the genotype, e.g. [0,1,149,150]\")\n",
    "@click.option('--reads_thr', '-r', default=0, help=\"minimum number of reads required to take a UMI into account. Using a number >2 enables to perform error corrects for UMIs with multiple reads\")\n",
    "@click.option('--output', '-o', default=\"genotypes.csv\", help=\"output file path\")\n",
    "def DGRec_genotypes(fastq, ref, umi_size, quality_threshold, ignore_pos, reads_thr, output):\n",
    "    ref=next(SeqIO.parse(ref,\"fasta\"))\n",
    "    ref_seq=str(ref.seq)\n",
    "    gen_list = get_genotypes(fastq, ref_seq, \n",
    "                             umi_size=umi_size, \n",
    "                             quality_threshold=quality_threshold, \n",
    "                             ignore_pos=ignore_pos,\n",
    "                             reads_thr=reads_thr)\n",
    "    \n",
    "    with open(output,\"w\") as handle:\n",
    "            for g,n in gen_list:\n",
    "                handle.write(f\"{g}\\t{n}\\n\")"
   ]
  },
  {
   "cell_type": "code",
   "execution_count": null,
   "metadata": {},
   "outputs": [
    {
     "name": "stderr",
     "output_type": "stream",
     "text": [
      "/home/dbikard/anaconda3/envs/DGRec/lib/python3.11/site-packages/Bio/__init__.py:138: BiopythonWarning: You may be importing Biopython from inside the source tree. This is bad practice and might lead to downstream issues. In particular, you might encounter ImportErrors due to missing compiled C extensions. We recommend that you try running your code from outside the source tree. If you are outside the source tree then you have a setup.py file in an unexpected directory: /home/dbikard/anaconda3/envs/DGRec/lib/python3.11/site-packages\n",
      "  warnings.warn(\n",
      "/home/dbikard/anaconda3/envs/DGRec/lib/python3.11/site-packages/Bio/pairwise2.py:278: BiopythonDeprecationWarning: Bio.pairwise2 has been deprecated, and we intend to remove it in a future release of Biopython. As an alternative, please consider using Bio.Align.PairwiseAligner as a replacement, and contact the Biopython developers if you still need the Bio.pairwise2 module.\n",
      "  warnings.warn(\n"
     ]
    },
    {
     "name": "stdout",
     "output_type": "stream",
     "text": [
      "n reads:\t1000\n",
      "n_reads pass filter:\t955\n",
      "n_reads aligned:\t912\n",
      "Number of UMIs: 902\n",
      "\n",
      "Number of genotypes: 185\n",
      "None\n",
      "0\n"
     ]
    }
   ],
   "source": [
    "#| hide\n",
    "import subprocess\n",
    "\n",
    "result = subprocess.run([\"DGRec_genotypes\", \n",
    "                         os.path.join(data_path,fastq_file), \n",
    "                         os.path.join(data_path,read_ref_file),\n",
    "                         ])\n",
    "print(result.stdout)  # Print the standard output of the command\n",
    "print(result.returncode)  # Get the exit code of the command\n",
    "\n",
    "\n",
    "# Remove test files\n",
    "\n",
    "# List all files in the directory\n",
    "files = os.listdir()\n",
    "\n",
    "# Iterate over the files\n",
    "for file in files:\n",
    "    if file==\"genotypes.csv\":\n",
    "        \n",
    "        try:\n",
    "            # Delete the file\n",
    "            os.remove(file)\n",
    "        except PermissionError:\n",
    "            print(f\"Permission denied to delete file '{file}'.\")\n",
    "        except FileNotFoundError:\n",
    "            print(f\"File '{file}' not found.\")"
   ]
  },
  {
   "cell_type": "code",
   "execution_count": null,
   "metadata": {},
   "outputs": [],
   "source": [
    "#| hide\n",
    "import nbdev; nbdev.nbdev_export()"
   ]
  }
 ],
 "metadata": {
  "kernelspec": {
   "display_name": "python3",
   "language": "python",
   "name": "python3"
  }
 },
 "nbformat": 4,
 "nbformat_minor": 4
}
