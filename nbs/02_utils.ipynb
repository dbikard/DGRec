{
 "cells": [
  {
   "cell_type": "markdown",
   "metadata": {},
   "source": [
    "# Utils"
   ]
  },
  {
   "cell_type": "code",
   "execution_count": null,
   "metadata": {},
   "outputs": [],
   "source": [
    "#| default_exp utils"
   ]
  },
  {
   "cell_type": "code",
   "execution_count": null,
   "metadata": {},
   "outputs": [],
   "source": [
    "#| export\n",
    "import gzip\n",
    "import itertools\n",
    "import os"
   ]
  },
  {
   "cell_type": "code",
   "execution_count": null,
   "metadata": {},
   "outputs": [],
   "source": [
    "#| hide\n",
    "from dgrec.example_data import get_example_data_dir"
   ]
  },
  {
   "cell_type": "code",
   "execution_count": null,
   "metadata": {},
   "outputs": [
    {
     "name": "stderr",
     "output_type": "stream",
     "text": [
      "/home/dbikard/anaconda3/envs/DGRec/lib/python3.11/site-packages/Bio/__init__.py:138: BiopythonWarning: You may be importing Biopython from inside the source tree. This is bad practice and might lead to downstream issues. In particular, you might encounter ImportErrors due to missing compiled C extensions. We recommend that you try running your code from outside the source tree. If you are outside the source tree then you have a setup.py file in an unexpected directory: /home/dbikard/anaconda3/envs/DGRec/lib/python3.11/site-packages\n",
      "  warnings.warn(\n",
      "/home/dbikard/anaconda3/envs/DGRec/lib/python3.11/site-packages/Bio/pairwise2.py:278: BiopythonDeprecationWarning: Bio.pairwise2 has been deprecated, and we intend to remove it in a future release of Biopython. As an alternative, please consider using Bio.Align.PairwiseAligner as a replacement, and contact the Biopython developers if you still need the Bio.pairwise2 module.\n",
      "  warnings.warn(\n"
     ]
    }
   ],
   "source": [
    "#| hide\n",
    "data_path=get_example_data_dir()"
   ]
  },
  {
   "cell_type": "code",
   "execution_count": null,
   "metadata": {},
   "outputs": [],
   "source": [
    "#| export\n",
    "\n",
    "def downsample_fastq_gz(input_file, output_file, num_reads=10000):\n",
    "    \"\"\"Downsamples a compressed FASTQ file to the specified number of reads.\n",
    "\n",
    "    Args:\n",
    "        input_file (str): Path to the input FASTQ.gz file.\n",
    "        output_file (str): Path to the output FASTQ.gz file.\n",
    "        num_reads (int, optional): Number of reads to keep. Defaults to 10000.\n",
    "    \"\"\"\n",
    "\n",
    "    with gzip.open(input_file, 'rb') as infile, gzip.open(output_file, 'wb') as outfile:\n",
    "        lines = itertools.islice(infile, num_reads * 4)  # Read 4 lines (1 read) at a time\n",
    "        for line in lines:\n",
    "            outfile.write(line)"
   ]
  },
  {
   "cell_type": "code",
   "execution_count": null,
   "metadata": {},
   "outputs": [],
   "source": [
    "\n",
    "input_file=os.path.join(data_path,\"sacB_example.fastq.gz\")\n",
    "output_file=\"sacB_example_downsampled.fastq.gz\"\n",
    "downsample_fastq_gz(input_file, output_file, num_reads=100)\n",
    "\n"
   ]
  },
  {
   "cell_type": "code",
   "execution_count": null,
   "metadata": {},
   "outputs": [],
   "source": [
    "#| hide\n",
    "# Remove test files\n",
    "\n",
    "# List all files in the directory\n",
    "files = os.listdir()\n",
    "\n",
    "# Iterate over the files\n",
    "for file in files:\n",
    "    if file.endswith(\".gz\"):\n",
    "        \n",
    "        try:\n",
    "            # Delete the file\n",
    "            os.remove(file)\n",
    "        except PermissionError:\n",
    "            print(f\"Permission denied to delete file '{file}'.\")\n",
    "        except FileNotFoundError:\n",
    "            print(f\"File '{file}' not found.\")"
   ]
  },
  {
   "cell_type": "code",
   "execution_count": null,
   "metadata": {},
   "outputs": [],
   "source": [
    "#| hide\n",
    "import nbdev; nbdev.nbdev_export()"
   ]
  }
 ],
 "metadata": {
  "kernelspec": {
   "display_name": "python3",
   "language": "python",
   "name": "python3"
  }
 },
 "nbformat": 4,
 "nbformat_minor": 2
}
