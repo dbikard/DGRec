{
 "cells": [
  {
   "cell_type": "markdown",
   "metadata": {},
   "source": [
    "# plotting\n",
    "\n",
    "> Functions to plot mutation results"
   ]
  },
  {
   "cell_type": "code",
   "execution_count": null,
   "metadata": {},
   "outputs": [
    {
     "name": "stdout",
     "output_type": "stream",
     "text": [
      "The autoreload extension is already loaded. To reload it, use:\n",
      "  %reload_ext autoreload\n"
     ]
    }
   ],
   "source": [
    "#| hide\n",
    "%load_ext autoreload\n",
    "%autoreload 2"
   ]
  },
  {
   "cell_type": "code",
   "execution_count": null,
   "metadata": {},
   "outputs": [],
   "source": [
    "#| default_exp plotting"
   ]
  },
  {
   "cell_type": "code",
   "execution_count": null,
   "metadata": {},
   "outputs": [],
   "source": [
    "#| hide\n",
    "from nbdev.showdoc import *\n"
   ]
  },
  {
   "cell_type": "code",
   "execution_count": null,
   "metadata": {},
   "outputs": [],
   "source": [
    "#| export\n",
    "from fastcore.basics import *\n",
    "import matplotlib.pyplot as plt\n",
    "import seaborn as sns\n",
    "import os\n",
    "import csv\n",
    "import numpy as np\n",
    "from Bio import SeqIO\n",
    "from typing import Union"
   ]
  },
  {
   "cell_type": "code",
   "execution_count": null,
   "metadata": {},
   "outputs": [],
   "source": [
    "#| hide\n",
    "from dgrec.example_data import get_example_data_dir"
   ]
  },
  {
   "cell_type": "code",
   "execution_count": null,
   "metadata": {},
   "outputs": [
    {
     "data": {
      "text/plain": [
       "['sacB_genotypes.csv',\n",
       " 'sacB_ref.fasta',\n",
       " '__pycache__',\n",
       " 'sacB_example.fastq.gz',\n",
       " '__init__.py']"
      ]
     },
     "execution_count": null,
     "metadata": {},
     "output_type": "execute_result"
    }
   ],
   "source": [
    "#| hide\n",
    "data_path=get_example_data_dir()\n",
    "os.listdir(data_path)"
   ]
  },
  {
   "cell_type": "code",
   "execution_count": null,
   "metadata": {},
   "outputs": [],
   "source": [
    "read_ref_file=\"sacB_ref.fasta\"\n",
    "ref=next(SeqIO.parse(os.path.join(data_path,read_ref_file),\"fasta\"))\n",
    "ref_seq=str(ref.seq)\n",
    "\n",
    "gen_list=[]\n",
    "with open(os.path.join(data_path,\"sacB_genotypes.csv\"),\"r\") as handle: \n",
    "    reader = csv.reader(handle, delimiter='\\t')\n",
    "    for row in reader:\n",
    "        gen_list.append((row[0],int(row[1])))"
   ]
  },
  {
   "cell_type": "code",
   "execution_count": null,
   "metadata": {},
   "outputs": [],
   "source": [
    "#| export\n",
    "def plot_mutations(gen_list: list, #list of genotypes. Each genotype is a tuple: (string representation of the genotype, number of molecules)\n",
    "                   ref_seq: str, #reference sequence\n",
    "                   sample_name: str = None,  #sample name\n",
    "                   plot_range: Union[tuple,list] = None,  #limits the plot to the specified range\n",
    "                   TR_range: Union[tuple,list] = None, #when specified creates a shaded box highlighting the position of the TR\n",
    "                   ):\n",
    "    \n",
    "    if not plot_range:\n",
    "        plot_range=[0,len(ref_seq)]\n",
    "\n",
    "    L=plot_range[1]-plot_range[0]\n",
    "    ref_seq=ref_seq[plot_range[0]:plot_range[1]]\n",
    "\n",
    "    symbols=[\"A\",\"T\",\"G\",\"C\",\"del\",\"ins\",\"N\"]\n",
    "    mut_arrays=dict([(s,np.zeros(L)) for s in symbols])\n",
    "    for gen, n in gen_list[1:]:\n",
    "        g=gen.split(',')\n",
    "        for mut in g:\n",
    "            if mut:\n",
    "                mut_from=mut[0]\n",
    "                ix=int(mut[1:-1])\n",
    "                k=mut[-1]\n",
    "                if k==\"-\":\n",
    "                    k=\"del\"\n",
    "                elif mut[0]==\"-\":\n",
    "                    k=\"ins\"\n",
    "                mut_arrays[k][ix]+=n  \n",
    "\n",
    "\n",
    "    for k in mut_arrays:\n",
    "        mut_arrays[k]=mut_arrays[k][plot_range[0]:plot_range[1]]\n",
    "\n",
    "\n",
    "\n",
    "    labels=np.array(range(L))\n",
    "\n",
    "    fig, ax = plt.subplots(1,1,figsize=(20, 5))\n",
    "\n",
    "    y=sum(mut_arrays.values())\n",
    "    colors=[\"orange\",\"red\",\"green\",\"blue\",\"grey\",\"black\"]\n",
    "    for i,s in enumerate(symbols[:-1]):\n",
    "        sns.barplot(x=labels,y=y,color=colors[i],ax=ax,label=s)\n",
    "        y-=mut_arrays[s]\n",
    "\n",
    "    ax.set_xticks(range(len(ref_seq)))\n",
    "    ax.set_xticklabels(list(ref_seq))\n",
    "    ax.set_ylabel(\"number of molecules\")\n",
    "    ax.set_title(sample_name)\n",
    "    if TR_range:\n",
    "        ax.axvspan(max(plot_range[0],TR_range[0]),min(TR_range[1],plot_range[1]),alpha=0.1)\n",
    "    ax.legend()\n",
    "    #fig.savefig(base_path+\"Plots/png/{}-{}_UMI_corrected_genotypes.png\".format(sample.Sample_ID,sample.Sample_Name), dpi=300)\n",
    "    #fig.savefig(base_path+\"Plots/eps/{}-{}_UMI_corrected_genotypes.eps\".format(sample.Sample_ID,sample.Sample_Name), format='eps')\n",
    "    #plt.close()\n",
    "    return fig\n",
    "    "
   ]
  },
  {
   "cell_type": "code",
   "execution_count": null,
   "metadata": {},
   "outputs": [
    {
     "data": {
      "image/png": "[encoded data removed]",
      "text/plain": [
       "<Figure size 2000x500 with 1 Axes>"
      ]
     },
     "metadata": {},
     "output_type": "display_data"
    }
   ],
   "source": [
    "fig = plot_mutations(gen_list, ref_seq, sample_name=\"sacB\", plot_range=[0,139], TR_range=[50,119])\n",
    "\n"
   ]
  },
  {
   "cell_type": "code",
   "execution_count": null,
   "metadata": {},
   "outputs": [],
   "source": [
    "#| hide\n",
    "import nbdev; nbdev.nbdev_export()"
   ]
  }
 ],
 "metadata": {
  "kernelspec": {
   "display_name": "python3",
   "language": "python",
   "name": "python3"
  }
 },
 "nbformat": 4,
 "nbformat_minor": 2
}
