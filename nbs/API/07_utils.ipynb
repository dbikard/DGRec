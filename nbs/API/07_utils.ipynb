{
 "cells": [
  {
   "cell_type": "markdown",
   "metadata": {},
   "source": [
    "# utils"
   ]
  },
  {
   "cell_type": "code",
   "execution_count": null,
   "metadata": {},
   "outputs": [],
   "source": [
    "#| default_exp utils"
   ]
  },
  {
   "cell_type": "code",
   "execution_count": null,
   "metadata": {},
   "outputs": [
    {
     "name": "stderr",
     "output_type": "stream",
     "text": [
      "/home/dbikard/anaconda3/envs/DGRec/lib/python3.11/site-packages/Bio/__init__.py:138: BiopythonWarning: You may be importing Biopython from inside the source tree. This is bad practice and might lead to downstream issues. In particular, you might encounter ImportErrors due to missing compiled C extensions. We recommend that you try running your code from outside the source tree. If you are outside the source tree then you have a setup.py file in an unexpected directory: /home/dbikard/anaconda3/envs/DGRec/lib/python3.11/site-packages\n",
      "  warnings.warn(\n"
     ]
    }
   ],
   "source": [
    "#| export\n",
    "import gzip\n",
    "import itertools\n",
    "import os\n",
    "import csv\n",
    "from dgrec import pairwise2\n",
    "from dgrec.pairwise2 import format_alignment\n",
    "from Bio.Align import PairwiseAligner\n",
    "from Bio.Seq import Seq"
   ]
  },
  {
   "cell_type": "code",
   "execution_count": null,
   "metadata": {},
   "outputs": [],
   "source": [
    "#| export\n",
    "def align2mut(align):\n",
    "    \"\"\"Converts a sequence alignment result from Bio.pairwise2.Align.globalms into a list of mutations.\n",
    "    Positions are those of the alignment.\"\"\"\n",
    "    res=[]\n",
    "    for i in range(align.end):\n",
    "        if align.seqA[i]!=align.seqB[i]:\n",
    "            mut=(align.seqA[i],i,align.seqB[i])\n",
    "            res.append(mut)\n",
    "    return res"
   ]
  },
  {
   "cell_type": "code",
   "execution_count": null,
   "metadata": {},
   "outputs": [
    {
     "data": {
      "text/plain": [
       "[('-', 4, 'A'), ('-', 8, 'T')]"
      ]
     },
     "execution_count": null,
     "metadata": {},
     "output_type": "execute_result"
    }
   ],
   "source": [
    "seqA = \"ATCCCGGCAGC\"\n",
    "seqB = \"ATCCACGGTCAGC\"\n",
    "align=pairwise2.align.globalms(seqA,seqB, 2, -1, -1, -.5, one_alignment_only=True)[0]\n",
    "align2mut(align)"
   ]
  },
  {
   "cell_type": "code",
   "execution_count": null,
   "metadata": {},
   "outputs": [],
   "source": [
    "#| export\n",
    "def mut_rix(mutations):\n",
    "    \"\"\"Reindexes the positions of the mutations to go from \n",
    "    their position in the sequence alignment to their position in the original sequence.\"\"\"\n",
    "    ph=0\n",
    "    res_rix=[]\n",
    "    for mut in mutations:\n",
    "        rix=mut[1]+ph\n",
    "        res_rix.append((mut[0],rix,mut[2]))\n",
    "        if mut[0]=='-':\n",
    "            ph-=1\n",
    "            \n",
    "    return res_rix"
   ]
  },
  {
   "cell_type": "code",
   "execution_count": null,
   "metadata": {},
   "outputs": [
    {
     "name": "stdout",
     "output_type": "stream",
     "text": [
      "ATCC-CGG-CAGC\n",
      "|||| ||| ||||\n",
      "ATCCACGGTCAGC\n",
      "  Score=20\n",
      "\n",
      "Output of align2mut:\n",
      "[('-', 4, 'A'), ('-', 8, 'T')]\n",
      "Output of mut_rix:\n",
      "[('-', 4, 'A'), ('-', 7, 'T')]\n"
     ]
    }
   ],
   "source": [
    "seqA = \"ATCCCGGCAGC\"\n",
    "seqB = \"ATCCACGGTCAGC\"\n",
    "align=pairwise2.align.globalms(seqA,seqB, 2, -1, -1, -.5, one_alignment_only=True)[0]\n",
    "print(format_alignment(*align))\n",
    "\n",
    "mutations=align2mut(align) \n",
    "print(\"Output of align2mut:\")\n",
    "print(mutations)\n",
    "\n",
    "print(\"Output of mut_rix:\")\n",
    "print(mut_rix(mutations))"
   ]
  },
  {
   "cell_type": "code",
   "execution_count": null,
   "metadata": {},
   "outputs": [],
   "source": [
    "#| export\n",
    "def get_mutations(seqA,seqB):\n",
    "    \"\"\"Aligns two sequences and returns a genotype string.\n",
    "    The string is a comma separated list of mutations.\n",
    "    \"\"\"\n",
    "    align=pairwise2.align.globalms(seqA,seqB, 2, -1, -1, -.5, one_alignment_only=True)[0]\n",
    "    mutations=align2mut(align) \n",
    "    mutations=mut_rix(mutations)\n",
    "    return mutations"
   ]
  },
  {
   "cell_type": "code",
   "execution_count": null,
   "metadata": {},
   "outputs": [
    {
     "name": "stdout",
     "output_type": "stream",
     "text": [
      "ATC--CGG-CAGCAGGTCGTGAGC\n",
      "|||  ||| |||||.|||||| ||\n",
      "ATCCACGGTCAGCACGTCGTG-GC\n",
      "  Score=33.5\n",
      "\n"
     ]
    },
    {
     "data": {
      "text/plain": [
       "[('-', 3, 'C'), ('-', 3, 'A'), ('-', 6, 'T'), ('G', 11, 'C'), ('A', 18, '-')]"
      ]
     },
     "execution_count": null,
     "metadata": {},
     "output_type": "execute_result"
    }
   ],
   "source": [
    "seqA = \"ATCCGGCAGCAGGTCGTGAGC\"\n",
    "seqB = \"ATCCACGGTCAGCACGTCGTGGC\"\n",
    "align=pairwise2.align.globalms(seqA,seqB, 2, -1, -1, -.5, one_alignment_only=True)[0]\n",
    "print(format_alignment(*align))\n",
    "\n",
    "get_mutations(seqA,seqB)"
   ]
  },
  {
   "cell_type": "code",
   "execution_count": null,
   "metadata": {},
   "outputs": [],
   "source": [
    "#| hide\n",
    "def align_to_mut(alignment):\n",
    "    muts=[]\n",
    "    p=0\n",
    "    for i in range(alignment.indices.shape[1]):\n",
    "        if alignment.indices[0][i]==-1:\n",
    "            muts.append([\"-\",p,alignment.query[alignment.indices[1][i]]])\n",
    "        elif alignment.indices[1][i]==-1:\n",
    "            p=alignment.indices[0][i]\n",
    "            muts.append([alignment.target[alignment.indices[0][i]],p,\"-\"])\n",
    "        elif alignment.target[alignment.indices[0][i]]!=alignment.query[alignment.indices[1][i]]:\n",
    "            p=alignment.indices[0][i]\n",
    "            muts.append([alignment.target[alignment.indices[0][i]],p,alignment.query[alignment.indices[1][i]]])\n",
    "        else:\n",
    "            p=alignment.indices[0][i]\n",
    "    return muts"
   ]
  },
  {
   "cell_type": "code",
   "execution_count": null,
   "metadata": {},
   "outputs": [
    {
     "name": "stdout",
     "output_type": "stream",
     "text": [
      "target            0 ATC--CGG-CAGCAGGTCGTGAGC 21\n",
      "                  0 |||--|||-|||||.||||||-|| 24\n",
      "query             0 ATCCACGGTCAGCACGTCGTG-GC 23\n",
      "\n"
     ]
    },
    {
     "data": {
      "text/plain": [
       "[['-', 2, 'C'], ['-', 2, 'A'], ['-', 5, 'T'], ['G', 11, 'C'], ['A', 18, '-']]"
      ]
     },
     "execution_count": null,
     "metadata": {},
     "output_type": "execute_result"
    }
   ],
   "source": [
    "#| hide\n",
    "aligner=PairwiseAligner()\n",
    "aligner.mode = 'global'\n",
    "aligner.match_score = 2\n",
    "aligner.mismatch_score = -1\n",
    "aligner.open_gap_score = -1\n",
    "aligner.extend_gap_score = -0.5\n",
    "\n",
    "alignments = aligner.align(seqA, seqB)\n",
    "alignment = alignments[0]\n",
    "\n",
    "print(alignment)\n",
    "align_to_mut(alignment)"
   ]
  },
  {
   "cell_type": "code",
   "execution_count": null,
   "metadata": {},
   "outputs": [],
   "source": [
    "#| hide\n",
    "\n",
    "aligner=PairwiseAligner()\n",
    "aligner.mode = 'global'\n",
    "aligner.match_score = 2\n",
    "aligner.mismatch_score = -1\n",
    "aligner.open_gap_score = -1\n",
    "aligner.extend_gap_score = -0.5\n",
    "\n",
    "def get_mutations_new(seqA,seqB):\n",
    "    \"\"\"Aligns two sequences and returns a genotype string.\n",
    "    The string is a comma separated list of mutations.\n",
    "    This implementation is much slower than the pairwise2 implementation.\n",
    "    \"\"\"\n",
    "    alignments = aligner.align(seqA, seqB)\n",
    "    align = alignments[0]\n",
    "    mutations=align_to_mut(align) \n",
    "    return mutations"
   ]
  },
  {
   "cell_type": "code",
   "execution_count": null,
   "metadata": {},
   "outputs": [
    {
     "data": {
      "text/plain": [
       "[('-', 3, 'C'), ('-', 3, 'A'), ('-', 6, 'T'), ('G', 11, 'C'), ('A', 18, '-')]"
      ]
     },
     "execution_count": null,
     "metadata": {},
     "output_type": "execute_result"
    }
   ],
   "source": [
    "#| hide\n",
    "seqA = \"ATCCGGCAGCAGGTCGTGAGC\"\n",
    "seqB = \"ATCCACGGTCAGCACGTCGTGGC\"\n",
    "get_mutations(seqA,seqB)"
   ]
  },
  {
   "cell_type": "code",
   "execution_count": null,
   "metadata": {},
   "outputs": [],
   "source": [
    "#| export\n",
    "def mut_to_str(mutations: list):\n",
    "    \"\"\"Converts list of mutations to a comma separated string\"\"\"\n",
    "    mut_str_list=[''.join(map(str,mut)) for mut in mutations]\n",
    "    mut_str=','.join(mut_str_list)\n",
    "    return mut_str"
   ]
  },
  {
   "cell_type": "code",
   "execution_count": null,
   "metadata": {},
   "outputs": [
    {
     "data": {
      "text/plain": [
       "'-3C,-3A,-6T,G11C,A18-'"
      ]
     },
     "execution_count": null,
     "metadata": {},
     "output_type": "execute_result"
    }
   ],
   "source": [
    "mut_to_str([('-', 3, 'C'), ('-', 3, 'A'), ('-', 6, 'T'), ('G', 11, 'C'), ('A', 18, '-')])"
   ]
  },
  {
   "cell_type": "code",
   "execution_count": null,
   "metadata": {},
   "outputs": [],
   "source": [
    "#| export\n",
    "def str_to_mut(gen: str):\n",
    "    \"\"\"Converts genotype string to a list of mutations\"\"\"\n",
    "    \n",
    "    mutations=[]\n",
    "    if gen==\"\":\n",
    "        return mutations\n",
    "    else:\n",
    "        g=gen.split(',')\n",
    "        for mut in g:\n",
    "            mut_from=mut[0]\n",
    "            ix=int(mut[1:-1])\n",
    "            mut_to=mut[-1]\n",
    "            mutations.append([mut_from,ix,mut_to])\n",
    "\n",
    "        return mutations"
   ]
  },
  {
   "cell_type": "code",
   "execution_count": null,
   "metadata": {},
   "outputs": [
    {
     "data": {
      "text/plain": [
       "[['-', 4, 'A'], ['-', 7, 'T'], ['G', 12, 'C']]"
      ]
     },
     "execution_count": null,
     "metadata": {},
     "output_type": "execute_result"
    }
   ],
   "source": [
    "assert(str_to_mut('')==[])\n",
    "str_to_mut('-4A,-7T,G12C')\n"
   ]
  },
  {
   "cell_type": "code",
   "execution_count": null,
   "metadata": {},
   "outputs": [],
   "source": [
    "#| export\n",
    "def genstr_to_seq(genstr,refseq):\n",
    "    j=0\n",
    "    seq=''\n",
    "    for mut in str_to_mut(genstr):\n",
    "        tb, i, qb = mut\n",
    "        seq+=refseq[j:i]\n",
    "        if tb==\"-\":\n",
    "            seq+=qb\n",
    "            j=i\n",
    "        elif qb==\"-\":\n",
    "            j=i+1\n",
    "            pass\n",
    "        else:\n",
    "            seq+=qb\n",
    "            j=i+1\n",
    "\n",
    "    seq+=refseq[j:]\n",
    "\n",
    "    return seq"
   ]
  },
  {
   "cell_type": "code",
   "execution_count": null,
   "metadata": {},
   "outputs": [
    {
     "data": {
      "text/plain": [
       "'ATCCACGGTCAGCACGTCGTGGC'"
      ]
     },
     "execution_count": null,
     "metadata": {},
     "output_type": "execute_result"
    }
   ],
   "source": [
    "genstr='-3C,-3A,-6T,G11C,A18-'\n",
    "genstr_to_seq(genstr,seqA)"
   ]
  },
  {
   "cell_type": "code",
   "execution_count": null,
   "metadata": {},
   "outputs": [],
   "source": [
    "#| hide\n",
    "seqA = \"ATCCGGCAGCAGGTCGTGAGC\"\n",
    "seqB = \"ATCCACGGTCAGCACGTCGTGGC\"\n",
    "genstr=mut_to_str(get_mutations(seqA,seqB))\n",
    "assert(genstr_to_seq(genstr,seqA)==seqB)\n",
    "\n",
    "seqA = \"AGCGCTATGCTGCGCGCGTACTGCCGCTAGCTATGCTCAGGCCGATATATGCGAGC\"\n",
    "seqB = \"AGCGCTAGCATGGTGCGCGCGTACTGCAGCTAGCTATGCAGGCCGATATATGCAAGC\"\n",
    "genstr=mut_to_str(get_mutations(seqA,seqB))\n",
    "assert(genstr_to_seq(genstr,seqA)==seqB)"
   ]
  },
  {
   "cell_type": "code",
   "execution_count": null,
   "metadata": {},
   "outputs": [],
   "source": [
    "#| export\n",
    "def get_prot_mut(genstr,refseq):\n",
    "    mut_seq=genstr_to_seq(genstr,refseq)\n",
    "    mut_prot=Seq(mut_seq).translate()\n",
    "    ref_prot=Seq(refseq).translate()\n",
    "    return mut_to_str(get_mutations(ref_prot,mut_prot))\n"
   ]
  },
  {
   "cell_type": "code",
   "execution_count": null,
   "metadata": {},
   "outputs": [
    {
     "data": {
      "text/plain": [
       "'T18C,T27A,T36G,C42A'"
      ]
     },
     "execution_count": null,
     "metadata": {},
     "output_type": "execute_result"
    }
   ],
   "source": [
    "seqA = \"AGCGCTATGCTGCGCGCGTACTGCCGCTAGCTATGCTCAGGCCGATATATGCGAGCA\"\n",
    "seqB = \"AGCGCTATGCTGCGCGCGCACTGCCGCAAGCTATGCGCAGGCAGATATATGCGAGCA\"\n",
    "mut_to_str(get_mutations(seqA,seqB))"
   ]
  },
  {
   "cell_type": "code",
   "execution_count": null,
   "metadata": {},
   "outputs": [
    {
     "data": {
      "text/plain": [
       "'Y6H,*9K,S12A'"
      ]
     },
     "execution_count": null,
     "metadata": {},
     "output_type": "execute_result"
    }
   ],
   "source": [
    "get_prot_mut('T18C,T27A,T36G,C42A',seqA)"
   ]
  },
  {
   "cell_type": "code",
   "execution_count": null,
   "metadata": {},
   "outputs": [],
   "source": [
    "#| export\n",
    "def parse_genotypes(genotypes_file):\n",
    "    gen_list=[]\n",
    "    with open(genotypes_file,\"r\") as handle: \n",
    "        reader = csv.reader(handle, delimiter='\\t')\n",
    "        for row in reader:\n",
    "            gen_list.append((row[0],int(row[1])))\n",
    "    return gen_list"
   ]
  },
  {
   "cell_type": "code",
   "execution_count": null,
   "metadata": {},
   "outputs": [],
   "source": [
    "from dgrec.example_data import get_example_data_dir"
   ]
  },
  {
   "cell_type": "code",
   "execution_count": null,
   "metadata": {},
   "outputs": [
    {
     "name": "stdout",
     "output_type": "stream",
     "text": [
      "20 \t A72G,A79G\n",
      "19 \t A72G,A79T,A91G\n",
      "17 \t T67G,A91G\n",
      "17 \t A76G,A79T\n",
      "17 \t A68C,A72G\n",
      "17 \t A111G\n",
      "16 \t A68G,A91G\n",
      "16 \t A86G,A91T\n",
      "15 \t A72G,A91T\n",
      "15 \t A79G,A86G\n"
     ]
    }
   ],
   "source": [
    "data_path=get_example_data_dir()\n",
    "gen_list=parse_genotypes(os.path.join(data_path,\"sacB_genotypes.csv\"))\n",
    "for g,n in itertools.islice(gen_list,30,40):\n",
    "    print(n,\"\\t\",g)"
   ]
  },
  {
   "cell_type": "code",
   "execution_count": null,
   "metadata": {},
   "outputs": [],
   "source": [
    "#| export\n",
    "\n",
    "def downsample_fastq_gz(input_file, output_file, num_reads=10000):\n",
    "    \"\"\"Downsamples a compressed FASTQ file to the specified number of reads.\n",
    "\n",
    "    Args:\n",
    "        input_file (str): Path to the input FASTQ.gz file.\n",
    "        output_file (str): Path to the output FASTQ.gz file.\n",
    "        num_reads (int, optional): Number of reads to keep. Defaults to 10000.\n",
    "    \"\"\"\n",
    "\n",
    "    with gzip.open(input_file, 'rb') as infile, gzip.open(output_file, 'wb') as outfile:\n",
    "        lines = itertools.islice(infile, num_reads * 4)  # Read 4 lines (1 read) at a time\n",
    "        for line in lines:\n",
    "            outfile.write(line)"
   ]
  },
  {
   "cell_type": "code",
   "execution_count": null,
   "metadata": {},
   "outputs": [],
   "source": [
    "\n",
    "input_file=os.path.join(data_path,\"sacB_example.fastq.gz\")\n",
    "output_file=\"sacB_example_downsampled.fastq.gz\"\n",
    "downsample_fastq_gz(input_file, output_file, num_reads=100)\n",
    "\n"
   ]
  },
  {
   "cell_type": "code",
   "execution_count": null,
   "metadata": {},
   "outputs": [],
   "source": [
    "#| export\n",
    "def get_basename_without_extension(file_path):\n",
    "    \"\"\"\n",
    "    Extracts the basename of a file without the extension.\n",
    "\n",
    "    Args:\n",
    "        file_path (str): The path to the file.\n",
    "\n",
    "    Returns:\n",
    "        str: The basename of the file without the extension.\n",
    "    \"\"\"\n",
    "\n",
    "    basename = os.path.basename(file_path)\n",
    "    if '.' in basename:\n",
    "        # Split at the last dot to remove the extension\n",
    "        return basename.rsplit('.', 1)[0]\n",
    "    else:\n",
    "        # No extension, return the whole filename\n",
    "        return basename"
   ]
  },
  {
   "cell_type": "code",
   "execution_count": null,
   "metadata": {},
   "outputs": [
    {
     "name": "stdout",
     "output_type": "stream",
     "text": [
      "my_file\n"
     ]
    }
   ],
   "source": [
    "# Example usage\n",
    "file_path = \"C:/Users/John/Documents/my_file.txt\"\n",
    "basename_without_extension = get_basename_without_extension(file_path)\n",
    "print(basename_without_extension)  # Output: my_file"
   ]
  },
  {
   "cell_type": "code",
   "execution_count": null,
   "metadata": {},
   "outputs": [],
   "source": [
    "#| hide\n",
    "# Remove test files\n",
    "\n",
    "# List all files in the directory\n",
    "files = os.listdir()\n",
    "\n",
    "# Iterate over the files\n",
    "for file in files:\n",
    "    if file.endswith(\".gz\"):\n",
    "        \n",
    "        try:\n",
    "            # Delete the file\n",
    "            os.remove(file)\n",
    "        except PermissionError:\n",
    "            print(f\"Permission denied to delete file '{file}'.\")\n",
    "        except FileNotFoundError:\n",
    "            print(f\"File '{file}' not found.\")"
   ]
  },
  {
   "cell_type": "code",
   "execution_count": null,
   "metadata": {},
   "outputs": [],
   "source": [
    "#| hide\n",
    "import nbdev; nbdev.nbdev_export()"
   ]
  },
  {
   "cell_type": "code",
   "execution_count": null,
   "metadata": {},
   "outputs": [],
   "source": [
    "#| export\n",
    "def pickle_save(data_in,file_name_out):\n",
    "    pickle_out = open(file_name_out,\"wb\")\n",
    "    pickle.dump(data_in, pickle_out)\n",
    "    pickle_out.close()\n",
    "    \n"
   ]
  },
  {
   "cell_type": "code",
   "execution_count": null,
   "metadata": {},
   "outputs": [],
   "source": [
    "#| export\n",
    "def pickle_load(file_name_in):\n",
    "    pickle_in = open(file_name_in,\"rb\")\n",
    "    data_out = pickle.load(pickle_in)\n",
    "    return data_out"
   ]
  },
  {
   "cell_type": "code",
   "execution_count": null,
   "metadata": {},
   "outputs": [],
   "source": [
    "# | export\n",
    "def reverse_complement(sequence):\n",
    "    complement_dict = {'A': 'T', 'T': 'A', 'C': 'G', 'G': 'C'}\n",
    "    reverse_sequence = sequence[::-1]\n",
    "    reverse_complement_sequence = ''.join(complement_dict[base] for base in reverse_sequence)\n",
    "    return reverse_complement_sequence\n"
   ]
  },
  {
   "cell_type": "code",
   "execution_count": null,
   "metadata": {},
   "outputs": [],
   "source": [
    "# | export\n",
    "def make_dgr_oligos(target:str #TR DNA\n",
    "                    ,split_number:int #Number of desired splits\n",
    "                    ):\n",
    "    \"Split the TR target into the input number and then generates the oligos to order\"\n",
    "    bad_overhangs=['AATT', 'ATAT', 'TATA', 'TTAA', 'ACGT', 'CATG', 'CTAG', 'GATC', 'GTAC', 'TCGA', 'TGCA', 'CCGG', 'CGCG', 'GCGC', 'GGCC']\n",
    "    target=target.upper()\n",
    "    split=len(target)//split_number\n",
    "    overhang_list=[]\n",
    "    split_k_list=[]\n",
    "    forward_list=[]\n",
    "    reverse_list=[]\n",
    "    full_list=[]\n",
    "\n",
    "\n",
    "    \n",
    "    for k in range(1,split_number):\n",
    "        split_k=k*split\n",
    "        overhang = target[split_k-2:split_k+2]\n",
    "        \n",
    "        while overhang in bad_overhangs+['ATAA','TCAG']:\n",
    "            if split_k%2 == 0:\n",
    "                split_k += 1\n",
    "                print('+1')\n",
    "            elif split_k%2 == 1:\n",
    "                split_k += -1\n",
    "                print('-1')\n",
    "            overhang = target[split_k-2:split_k+2]\n",
    "        overhang_list.append(overhang)\n",
    "        split_k_list.append(split_k)\n",
    "\n",
    "    forward_list.append('ATAA'+target[:split_k_list[0]-2])\n",
    "    reverse_list.append(reverse_complement(target[:split_k_list[0]+2]))\n",
    "\n",
    "    for j in range (len(split_k_list)-1):\n",
    "        forward_list.append(target[split_k_list[j]-2:split_k_list[j+1]-2])\n",
    "        reverse_list.append(reverse_complement(target[split_k_list[j]+2:split_k_list[j+1]+2]))\n",
    "\n",
    "\n",
    "    forward_list.append(target[split_k_list[-1]-2:])\n",
    "    reverse_list.append('CAGA'+reverse_complement(target[split_k_list[-1]+2:]))\n",
    "\n",
    "    for i in range(split_number):\n",
    "        full_list.append(forward_list[i])\n",
    "        full_list.append(reverse_list[i])\n",
    "            \n",
    "    return(full_list)"
   ]
  },
  {
   "cell_type": "code",
   "execution_count": null,
   "metadata": {},
   "outputs": [
    {
     "data": {
      "text/plain": [
       "['ATAACCTCAGATACAAGCCGGCATAAATAATAACA',\n",
       " 'AATATGTTATTATTTATGCCGGCTTGTATCTGAGG',\n",
       " 'TATTCTATGACCATGATAATAGTGTAGGTGCAA',\n",
       " 'GCGTTTGCACCTACACTATTATCATGGTCATAG',\n",
       " 'ACGCCAACGCTAAAAACACTGGAACCATGAACG',\n",
       " 'TTACCGTTCATGGTTCCAGTGTTTTTAGCGTTG',\n",
       " 'GTAATACTGCAGGGACGAATATAGCCAAAACTTCT',\n",
       " 'CAGAAGAAGTTTTGGCTATATTCGTCCCTGCAGTA']"
      ]
     },
     "execution_count": null,
     "metadata": {},
     "output_type": "execute_result"
    }
   ],
   "source": [
    "target='CCTCAGATACAAGCCGGCATAAATAATAACATATTCTATGACCATGATAATAGTGTAGGTGCAAACGCCAACGCTAAAAACACTGGAACCATGAACGGTAATACTGCAGGGACGAATATAGCCAAAACTTCT'\n",
    "make_dgr_oligos(target,4)"
   ]
  },
  {
   "cell_type": "code",
   "execution_count": null,
   "metadata": {},
   "outputs": [],
   "source": []
  }
 ],
 "metadata": {
  "kernelspec": {
   "display_name": "python3",
   "language": "python",
   "name": "python3"
  }
 },
 "nbformat": 4,
 "nbformat_minor": 2
}
