{
 "cells": [
  {
   "cell_type": "markdown",
   "metadata": {},
   "source": [
    "# core\n",
    "\n",
    "> Functions to go a fastq file to a list of genotypes"
   ]
  },
  {
   "cell_type": "code",
   "execution_count": null,
   "metadata": {},
   "outputs": [
    {
     "name": "stdout",
     "output_type": "stream",
     "text": [
      "The autoreload extension is already loaded. To reload it, use:\n",
      "  %reload_ext autoreload\n"
     ]
    }
   ],
   "source": [
    "#| hide\n",
    "%load_ext autoreload\n",
    "%autoreload 2"
   ]
  },
  {
   "cell_type": "code",
   "execution_count": null,
   "metadata": {},
   "outputs": [],
   "source": [
    "#| default_exp core"
   ]
  },
  {
   "cell_type": "code",
   "execution_count": null,
   "metadata": {},
   "outputs": [],
   "source": [
    "#| hide\n",
    "from nbdev.showdoc import *\n"
   ]
  },
  {
   "cell_type": "code",
   "execution_count": null,
   "metadata": {},
   "outputs": [],
   "source": [
    "#| export\n",
    "from fastcore.basics import *\n",
    "from Bio import SeqIO\n",
    "import gzip as gz\n",
    "import os\n",
    "from collections import defaultdict, Counter\n",
    "import numpy as np\n",
    "import itertools\n",
    "import click\n",
    "import csv\n",
    "from dgrec.utils import get_mutations, mut_to_str"
   ]
  },
  {
   "cell_type": "code",
   "execution_count": null,
   "metadata": {},
   "outputs": [],
   "source": [
    "#| hide\n",
    "from dgrec.example_data import get_example_data_dir"
   ]
  },
  {
   "cell_type": "code",
   "execution_count": null,
   "metadata": {},
   "outputs": [
    {
     "data": {
      "text/plain": [
       "['paired_example1_R2.fastq.gz',\n",
       " 'sacB_genotypes.csv',\n",
       " 'sacB_ref.fasta',\n",
       " '__pycache__',\n",
       " 'model_mms_2024_02_14.pickle',\n",
       " 'sacB_example.fastq.gz',\n",
       " 'paired_example1_R1.fastq.gz',\n",
       " '__init__.py']"
      ]
     },
     "execution_count": null,
     "metadata": {},
     "output_type": "execute_result"
    }
   ],
   "source": [
    "#| hide\n",
    "data_path=get_example_data_dir()\n",
    "os.listdir(data_path)"
   ]
  },
  {
   "cell_type": "code",
   "execution_count": null,
   "metadata": {},
   "outputs": [],
   "source": [
    "#| export\n",
    "\n",
    "def get_UMI_genotype(fastq_path: str, #path to the input fastq file\n",
    "                     ref_seq: str, #sequence of the reference amplicon\n",
    "                     umi_size: int = 10, #number of nucleotides at the begining of the read that will be used as the UMI\n",
    "                     quality_threshold: int = 30, #threshold value used to filter out reads of poor average quality\n",
    "                     ignore_pos: list = [], #list of positions that are ignored in the genotype\n",
    "                     ) -> dict:\n",
    "    \n",
    "    \"\"\"Takes as input a fastq_file of single read amplicon sequencing, and a reference amplicon sequence.\n",
    "       Returns a dictionnary containing as keys UMIs and as values a Counter of all genotype strings read for that UMI.\n",
    "    \"\"\"\n",
    "    with gz.open(fastq_path,'rt') as handle:\n",
    "        reads=SeqIO.parse(handle,\"fastq\")\n",
    "        n_reads=0\n",
    "        n_reads_pass_Qfilter=0\n",
    "        n_reads_aligned=0\n",
    "        UMI_dict=defaultdict(list,{})\n",
    "        for r in reads:\n",
    "            n_reads+=1\n",
    "            meanScore=np.mean(r.letter_annotations['phred_quality'])\n",
    "\n",
    "            if meanScore>quality_threshold:\n",
    "                n_reads_pass_Qfilter+=1\n",
    "                umi=str(r.seq[:umi_size])\n",
    "                mutations=get_mutations(ref_seq,r.seq[umi_size:])\n",
    "                if ignore_pos:\n",
    "                    mutations = [m for m in mutations if m[1] not in ignore_pos]\n",
    "                n_mut=len(mutations)\n",
    "                if n_mut<15: #more than 10 mutation is almost certainly crap\n",
    "                    n_reads_aligned+=1\n",
    "                    UMI_dict[umi].append(mut_to_str(mutations))\n",
    "    \n",
    "    log='n reads:\\t{}\\nn_reads pass filter:\\t{}\\nn_reads aligned:\\t{}\\n'.format(n_reads,n_reads_pass_Qfilter,n_reads_aligned)\n",
    "    log+=f\"Number of UMIs: {len(UMI_dict)}\\n\"\n",
    "    \n",
    "    UMI_gencounter={}\n",
    "    umi_readcounts=[]\n",
    "    for umi in UMI_dict:\n",
    "        umi_readcounts.append(len(UMI_dict[umi]))\n",
    "        UMI_gencounter[umi]=Counter(UMI_dict[umi])\n",
    "\n",
    "    log+=f\"Median number of reads per UMI: {np.median(umi_readcounts)}\"\n",
    "    print(log)\n",
    "    return UMI_gencounter"
   ]
  },
  {
   "cell_type": "code",
   "execution_count": null,
   "metadata": {},
   "outputs": [
    {
     "name": "stdout",
     "output_type": "stream",
     "text": [
      "n reads:\t1000\n",
      "n_reads pass filter:\t847\n",
      "n_reads aligned:\t824\n",
      "Number of UMIs: 814\n",
      "Median number of reads per UMI: 1.0\n",
      "GCATANCTCA [('A61G,-63T,A76T,A91T', 1)]\n",
      "CGCATNTATA [('', 1)]\n",
      "CCTTGNAGTA [('', 1)]\n",
      "GGCGCNAGAA [('', 1)]\n",
      "TCTCTTGTGA [('', 1)]\n",
      "ATTACAGAAT [('', 1)]\n",
      "CTTTTACTAT [('', 1)]\n",
      "TCAAAGTTTT [('A79T,A91G', 1)]\n",
      "TTAGCTCATA [('', 1)]\n",
      "TCATAATGTA [('', 1)]\n",
      "ATGTGCGGAT [('', 1)]\n",
      "TGTGTTTATA [('', 1)]\n",
      "CCATACATCC [('', 1)]\n",
      "AGGGACGTTT [('A61G,A72G,A76G,A79T', 1)]\n",
      "GTGTAATAGC [('', 1)]\n",
      "ATGTCTTTTA [('', 1)]\n",
      "TATCGGTAGT [('', 1)]\n",
      "GTCGGGGGGG [('', 1)]\n",
      "AAGTGGCACA [('', 1)]\n",
      "AATAGAACCT [('T108A,G127T,G132T', 1)]\n"
     ]
    }
   ],
   "source": [
    "fastq_file=\"sacB_example.fastq.gz\"\n",
    "fastq_path=os.path.join(data_path,fastq_file)\n",
    "\n",
    "read_ref_file=\"sacB_ref.fasta\"\n",
    "ref=next(SeqIO.parse(os.path.join(data_path,read_ref_file),\"fasta\"))\n",
    "ref_seq=str(ref.seq)\n",
    "\n",
    "UMI_gencounter = get_UMI_genotype(fastq_path, ref_seq, ignore_pos=[0,1,2,138,139,140,141])\n",
    "\n",
    "for umi in itertools.islice(UMI_gencounter,20):\n",
    "    print(umi, list(UMI_gencounter[umi].items()))"
   ]
  },
  {
   "cell_type": "code",
   "execution_count": null,
   "metadata": {},
   "outputs": [],
   "source": [
    "#| export\n",
    "\n",
    "def correct_UMI_genotypes(UMI_gencounter: dict, #the output of the get_UMI_genotype function\n",
    "                          reads_per_umi_thr=2 #only assign a genotype to a UMI if we have reads_per_umi_thr reads for that genotype or more\n",
    "                          ) -> dict:\n",
    "    \"\"\"Keeps only the genotype with the most reads for each UMI.\n",
    "    Returns a dictionary with UMIs as keys and a tuple as value: (genotype string, number of reads)\n",
    "    \"\"\"\n",
    "    UMI_gen_dict={}\n",
    "    for umi in UMI_gencounter:\n",
    "        gen, n =UMI_gencounter[umi].most_common(1)[0]\n",
    "        if n>=reads_per_umi_thr: #only assign a genotype to a UMI if we have reads_per_umi_thr reads for that genotype or more\n",
    "            UMI_gen_dict[umi]=gen\n",
    "\n",
    "    return UMI_gen_dict"
   ]
  },
  {
   "cell_type": "code",
   "execution_count": null,
   "metadata": {},
   "outputs": [
    {
     "data": {
      "text/plain": [
       "{'CTCCGGGGAG': '',\n",
       " 'TGCTTGAGTG': 'A79T',\n",
       " 'AGGGCGGGCT': '',\n",
       " 'ATTTCTGTTT': '',\n",
       " 'TGGGGGGGCT': '',\n",
       " 'GATTGGTAGA': '',\n",
       " 'GAACTCTAGT': '',\n",
       " 'TAACTAATCG': 'A79G,A86G,A91G'}"
      ]
     },
     "execution_count": null,
     "metadata": {},
     "output_type": "execute_result"
    }
   ],
   "source": [
    "correct_UMI_genotypes(UMI_gencounter)"
   ]
  },
  {
   "cell_type": "code",
   "execution_count": null,
   "metadata": {},
   "outputs": [],
   "source": [
    "#| export\n",
    "\n",
    "def genotype_UMI_counter(UMI_gen_dict):\n",
    "    \"\"\"Takes as input the output of correct_UMI_genotypes() and \n",
    "    returns a list of genotypes sorted by the number of UMIs detected corresponding that each genotype.\"\"\"\n",
    "    umi_counter=Counter(UMI_gen_dict.values())\n",
    "    gen_sorted_list=sorted(list(umi_counter.items()),key=lambda x: x[1], reverse=True)\n",
    "    return gen_sorted_list\n"
   ]
  },
  {
   "cell_type": "code",
   "execution_count": null,
   "metadata": {},
   "outputs": [
    {
     "name": "stdout",
     "output_type": "stream",
     "text": [
      "675\t\n",
      "3\tC56A\n",
      "3\tA76G\n",
      "3\tA91G\n",
      "3\tA91T\n",
      "2\tC69T\n",
      "2\tT122A\n",
      "2\tA91C\n",
      "2\tA105G\n",
      "2\tC116A\n",
      "2\tT60A\n",
      "2\tT59A\n",
      "2\tA68G\n",
      "2\tT134A\n",
      "1\tA61G,-63T,A76T,A91T\n",
      "1\tA79T,A91G\n",
      "1\tA61G,A72G,A76G,A79T\n",
      "1\tT108A,G127T,G132T\n",
      "1\tA48T,A86G\n",
      "1\tA61T,A68T,A72G,A79C,A91G\n"
     ]
    }
   ],
   "source": [
    "UMI_gen_dict=correct_UMI_genotypes(UMI_gencounter, reads_per_umi_thr=0)\n",
    "gen_list = genotype_UMI_counter(UMI_gen_dict)\n",
    "for g in gen_list[:20]:\n",
    "    print(f\"{g[1]}\\t{g[0]}\")"
   ]
  },
  {
   "cell_type": "code",
   "execution_count": null,
   "metadata": {},
   "outputs": [],
   "source": [
    "#| export\n",
    "\n",
    "def get_genotypes(fastq_path: str, #path to the input fastq file\n",
    "                    ref_seq: str, #sequence of the reference amplicon\n",
    "                    umi_size: int = 10, #number of nucleotides at the begining of the read that will be used as the UMI\n",
    "                    quality_threshold: int = 30, #threshold value used to filter out reads of poor average quality\n",
    "                    ignore_pos: list = [], #list of positions that are ignored in the genotype\n",
    "                    reads_per_umi_thr: int = 0, #minimum number of reads required to take a UMI into account. Using a number >2 enables to perform error correction for UMIs with multiple reads.\n",
    "                    save_umi_data: str = None, #path to the csv file where to save the details of the genotypes reads for each UMI. If None the data isn't saved.\n",
    "                    ):\n",
    "    \"\"\"Putting things together in a single wrapper function that takes the fastq as input and returns the list of genotypes.\"\"\"\n",
    "    UMI_dict = get_UMI_genotype(fastq_path, ref_seq, umi_size, quality_threshold, ignore_pos)\n",
    "    if save_umi_data:\n",
    "        with open(save_umi_data,\"w\", newline='') as handle: \n",
    "            csv_writer = csv.writer(handle,delimiter=\"\\t\",doublequote=False)\n",
    "            for umi in itertools.islice(UMI_dict,20):\n",
    "                csv_writer.writerow([umi,list(UMI_dict[umi].items())])\n",
    "\n",
    "    UMI_gen_dict=correct_UMI_genotypes(UMI_dict, reads_per_umi_thr)\n",
    "    gen_list = genotype_UMI_counter(UMI_gen_dict)\n",
    "    print(\"Number of genotypes:\", len(gen_list))\n",
    "    return gen_list\n",
    "    "
   ]
  },
  {
   "cell_type": "code",
   "execution_count": null,
   "metadata": {},
   "outputs": [
    {
     "name": "stdout",
     "output_type": "stream",
     "text": [
      "n reads:\t1000\n",
      "n_reads pass filter:\t847\n",
      "n_reads aligned:\t824\n",
      "Number of UMIs: 814\n",
      "Median number of reads per UMI: 1.0\n",
      "Number of genotypes: 123\n",
      "675\t\n",
      "3\tC56A\n",
      "3\tA76G\n",
      "3\tA91G\n",
      "3\tA91T\n",
      "2\tC69T\n",
      "2\tT122A\n",
      "2\tA91C\n",
      "2\tA105G\n",
      "2\tC116A\n",
      "2\tT60A\n",
      "2\tT59A\n",
      "2\tA68G\n",
      "2\tT134A\n",
      "1\tA61G,-63T,A76T,A91T\n",
      "1\tA79T,A91G\n",
      "1\tA61G,A72G,A76G,A79T\n",
      "1\tT108A,G127T,G132T\n",
      "1\tA48T,A86G\n",
      "1\tA61T,A68T,A72G,A79C,A91G\n"
     ]
    }
   ],
   "source": [
    "fastq_file=\"sacB_example.fastq.gz\"\n",
    "fastq_path=os.path.join(data_path,fastq_file)\n",
    "read_ref_file=\"sacB_ref.fasta\"\n",
    "ref=next(SeqIO.parse(os.path.join(data_path,read_ref_file),\"fasta\"))\n",
    "ref_seq=str(ref.seq)\n",
    "gen_list = get_genotypes(fastq_path, ref_seq, ignore_pos=[0,1,2,138,139,140,141], save_umi_data=\"test.csv\")\n",
    "for g in gen_list[:20]:\n",
    "    print(f\"{g[1]}\\t{g[0]}\")"
   ]
  },
  {
   "cell_type": "code",
   "execution_count": null,
   "metadata": {},
   "outputs": [],
   "source": [
    "#| export\n",
    "\n",
    "def get_UMI_genotype_paired(fastq_path_fwd: str, #path to the input fastq file reading the ref_seq in the forward orientation\n",
    "                            fastq_path_rev: str, #path to the input fastq file reading the ref_seq in the reverse orientation\n",
    "                            ref_seq: str, #sequence of the reference amplicon\n",
    "                            fwd_span: tuple, #span of the ref_seq that is read in the forward orientation format: (start, end)\n",
    "                            rev_span: tuple, #span of the ref_seq that is read in the reverse orientation format: (start, end)\n",
    "                            require_perfect_pair_agreement: bool = True, #if True only pairs of reads that perfectly agree on the sequence within the common span will be used. If False the fwd sequence will be used. Will be set to False by default if there is no overlap.\n",
    "                            umi_size_fwd: int = 10, #number of nucleotides at the begining of the fwd read that will be used as the UMI\n",
    "                            umi_size_rev: int = 0, #number of nucleotides at the begining of the rev read that will be used as the UMI (if both are provided the umi will be the concatenation of both)\n",
    "                            quality_threshold: int = 30, #threshold value used to filter out reads of poor average quality. Both reads have to pass the threshold.\n",
    "                            ignore_pos: list = [], #list of positions that are ignored in the genotype\n",
    "                            N = None, #number of reads to consider (useful to get a quick view of the data without going through the whole fastq files). If None the whole data will be used.\n",
    "                            ) -> dict:\n",
    "    \n",
    "\n",
    "    fwd_span = sorted(fwd_span)\n",
    "    rev_span = sorted(rev_span)\n",
    "\n",
    "    if fwd_span[1]>rev_span[0] and (rev_span[1]-rev_span[0])>0:\n",
    "        overlap=True\n",
    "        overlap_size=fwd_span[1]-rev_span[0]\n",
    "    else:\n",
    "        overlap=False\n",
    "        require_perfect_pair_agreement=False\n",
    "\n",
    "    with gz.open(fastq_path_fwd,'rt') as handle1, gz.open(fastq_path_rev,'rt') as handle2:\n",
    "        fwd_reads=SeqIO.parse(handle1,\"fastq\")\n",
    "        rev_reads=SeqIO.parse(handle2,\"fastq\")\n",
    "        n_reads=0\n",
    "        n_reads_pass_Qfilter=0\n",
    "        n_reads_aligned=0\n",
    "        n_reads_agree=0\n",
    "        UMI_dict=defaultdict(list,{})\n",
    "\n",
    "        paired_iter=zip(fwd_reads,rev_reads)\n",
    "        if n_reads!=None:\n",
    "            paired_iter=itertools.islice(paired_iter,0,N)\n",
    "\n",
    "        for r1, r2 in paired_iter:\n",
    "            n_reads+=1\n",
    "            meanScore_r1=np.mean(r1.letter_annotations['phred_quality'])\n",
    "            meanScore_r2=np.mean(r2.letter_annotations['phred_quality'])\n",
    "\n",
    "            if meanScore_r1>quality_threshold and meanScore_r2>quality_threshold:\n",
    "                n_reads_pass_Qfilter+=1\n",
    "                umi1=str(r1.seq[:umi_size_fwd])\n",
    "                umi2=str(r2.seq[:umi_size_rev])\n",
    "                umi=umi1+umi2\n",
    "\n",
    "                fwd_seq=r1.seq[umi_size_fwd:]\n",
    "                rev_seq=r2.seq[umi_size_rev:].reverse_complement()\n",
    "\n",
    "                if overlap:\n",
    "                    fwd_common_seq=str(fwd_seq[rev_span[0]:fwd_span[1]])\n",
    "                    rev_common_seq=str(rev_seq[:overlap_size])\n",
    "                    if require_perfect_pair_agreement:\n",
    "                        if fwd_common_seq==rev_common_seq:\n",
    "                            n_reads_agree+=1\n",
    "                        else:\n",
    "                            continue\n",
    "                        \n",
    "                    consensus=fwd_seq+rev_seq[overlap_size:]\n",
    "                    mutations=get_mutations(ref_seq[fwd_span[0]:rev_span[1]],consensus)\n",
    "                else:\n",
    "                    consensus=\"\"\n",
    "                    if fwd_span[1]-fwd_span[0]>0:\n",
    "                        consensus+=fwd_seq\n",
    "                    if rev_span[1]-rev_span[0]>0:\n",
    "                        consensus+=rev_seq\n",
    "                        \n",
    "                    mutations=get_mutations(ref_seq[fwd_span[0]:fwd_span[1]]+ref_seq[rev_span[0]:rev_span[1]],consensus)\n",
    "\n",
    "                if ignore_pos:\n",
    "                    mutations = [m for m in mutations if m[1] not in ignore_pos]\n",
    "                n_mut=len(mutations)\n",
    "                if n_mut<15: #more than 10 mutation is almost certainly crap\n",
    "                    n_reads_aligned+=1\n",
    "                    UMI_dict[umi].append(mut_to_str(mutations))\n",
    "    \n",
    "    log='n reads:\\t{}\\nn_reads pass filter:\\t{}\\nn_reads aligned:\\t{}\\nn_pairs agree:\\t{}\\n'.format(n_reads,n_reads_pass_Qfilter,n_reads_aligned,n_reads_agree)\n",
    "    log+=f\"Number of UMIs: {len(UMI_dict)}\\n\"\n",
    "    \n",
    "    UMI_gencounter={}\n",
    "    umi_readcounts=[]\n",
    "    for umi in UMI_dict:\n",
    "        umi_readcounts.append(len(UMI_dict[umi]))\n",
    "        UMI_gencounter[umi]=Counter(UMI_dict[umi])\n",
    "\n",
    "    log+=f\"Median number of reads per UMI: {np.median(umi_readcounts)}\"\n",
    "    print(log)\n",
    "    return UMI_gencounter"
   ]
  },
  {
   "cell_type": "code",
   "execution_count": null,
   "metadata": {},
   "outputs": [
    {
     "name": "stdout",
     "output_type": "stream",
     "text": [
      "n reads:\t10\n",
      "n_reads pass filter:\t10\n",
      "n_reads aligned:\t10\n",
      "n_pairs agree:\t0\n",
      "Number of UMIs: 10\n",
      "Median number of reads per UMI: 1.0\n",
      "GGACGCGATA [('T50A,T51G', 1)]\n",
      "GCTGTATGTT [('T50A,T51G', 1)]\n",
      "GGGAAGGCGT [('', 1)]\n",
      "GGCGACAGTG [('', 1)]\n",
      "CCATGTCGGG [('', 1)]\n",
      "CNGATGTTTG [('T33G,T34A,T51G', 1)]\n",
      "GTCACACCAC [('T33C,T34C,T36C,T50A', 1)]\n",
      "CCAGACTGTT [('', 1)]\n",
      "CAGGGTTTAT [('T50A,T51G', 1)]\n",
      "ATGGGTACGG [('T130A', 1)]\n"
     ]
    }
   ],
   "source": [
    "fastq_path_fwd=os.path.join(data_path,\"paired_example1_R2.fastq.gz\")\n",
    "fastq_path_rev=os.path.join(data_path,\"paired_example1_R1.fastq.gz\")\n",
    "\n",
    "\n",
    "read_ref_file=\"sacB_ref.fasta\"\n",
    "ref=next(SeqIO.parse(os.path.join(data_path,read_ref_file),\"fasta\"))\n",
    "ref_seq=\"GAGGAGACGGTGACCTGGGTCCCCTGGCCCCAGTTGTTGAAGTCATACCCTTAGGCACCATAGTATCCAGACGCACAGTAGTACAAGGCAGTGTCCTCAGGTTTCAGGCTGTTCATTTGCAGATACACCGTGTTCTTGGCGTTGTCTTGGG\"\n",
    "\n",
    "UMI_gencounter = get_UMI_genotype_paired(fastq_path_fwd, \n",
    "                                         fastq_path_rev, \n",
    "                                         ref_seq, \n",
    "                                         fwd_span=(0,150), \n",
    "                                         rev_span=(0,0),\n",
    "                                         umi_size_fwd=0,\n",
    "                                         umi_size_rev=10,\n",
    "                                         N=10,\n",
    "                                         ignore_pos=[0,1,2,150,151])\n",
    "\n",
    "for umi in itertools.islice(UMI_gencounter,20):\n",
    "    print(umi, list(UMI_gencounter[umi].items()))"
   ]
  },
  {
   "cell_type": "code",
   "execution_count": null,
   "metadata": {},
   "outputs": [],
   "source": [
    "#|hide\n",
    "from Bio.Seq import Seq"
   ]
  },
  {
   "cell_type": "code",
   "execution_count": null,
   "metadata": {},
   "outputs": [
    {
     "name": "stdout",
     "output_type": "stream",
     "text": [
      "n reads:\t10\n",
      "n_reads pass filter:\t10\n",
      "n_reads aligned:\t10\n",
      "n_pairs agree:\t0\n",
      "Number of UMIs: 10\n",
      "Median number of reads per UMI: 1.0\n",
      "GGACGCGATA [('A99C,A100T', 1)]\n",
      "GCTGTATGTT [('A99C,A100T', 1)]\n",
      "GGGAAGGCGT [('', 1)]\n",
      "GGCGACAGTG [('', 1)]\n",
      "CCATGTCGGG [('', 1)]\n",
      "CNGATGTTTG [('A99C,A116T,A117C', 1)]\n",
      "GTCACACCAC [('A100T,A114G,A116G,A117G', 1)]\n",
      "CCAGACTGTT [('', 1)]\n",
      "CAGGGTTTAT [('A99C,A100T', 1)]\n",
      "ATGGGTACGG [('A20T', 1)]\n"
     ]
    }
   ],
   "source": [
    "#|hide\n",
    "fastq_path_fwd=os.path.join(data_path,\"paired_example1_R1.fastq.gz\")\n",
    "fastq_path_rev=os.path.join(data_path,\"paired_example1_R2.fastq.gz\")\n",
    "\n",
    "\n",
    "read_ref_file=\"sacB_ref.fasta\"\n",
    "ref=next(SeqIO.parse(os.path.join(data_path,read_ref_file),\"fasta\"))\n",
    "ref_seq=str(Seq(\"GAGGAGACGGTGACCTGGGTCCCCTGGCCCCAGTTGTTGAAGTCATACCCTTAGGCACCATAGTATCCAGACGCACAGTAGTACAAGGCAGTGTCCTCAGGTTTCAGGCTGTTCATTTGCAGATACACCGTGTTCTTGGCGTTGTCTTGGG\").reverse_complement())\n",
    "\n",
    "UMI_gencounter = get_UMI_genotype_paired(fastq_path_fwd, \n",
    "                                         fastq_path_rev, \n",
    "                                         ref_seq, \n",
    "                                         fwd_span=(0,0), \n",
    "                                         rev_span=(0,150),\n",
    "                                         umi_size_fwd=10,\n",
    "                                         umi_size_rev=0,\n",
    "                                         N=10,\n",
    "                                         ignore_pos=[0,1,2,150,151])\n",
    "\n",
    "for umi in itertools.islice(UMI_gencounter,20):\n",
    "    print(umi, list(UMI_gencounter[umi].items()))"
   ]
  },
  {
   "cell_type": "code",
   "execution_count": null,
   "metadata": {},
   "outputs": [],
   "source": [
    "#| export\n",
    "\n",
    "def get_genotypes_paired(fastq_path_fwd: str, #path to the input fastq file reading the ref_seq in the forward orientation\n",
    "                        fastq_path_rev: str, #path to the input fastq file reading the ref_seq in the reverse orientation\n",
    "                        ref_seq: str, #sequence of the reference amplicon\n",
    "                        fwd_span: tuple, #span of the ref_seq that is read in the forward orientation format: (start, end)\n",
    "                        rev_span: tuple, #span of the ref_seq that is read in the reverse orientation format: (start, end)\n",
    "                        require_perfect_pair_agreement: bool = True, #if True only pairs of reads that perfectly agree on the sequence within the common span will be used. If False the fwd sequence will be used. Will be set to False by default if there is no overlap.\n",
    "                        umi_size_fwd: int = 10, #number of nucleotides at the begining of the fwd read that will be used as the UMI\n",
    "                        umi_size_rev: int = 0, #number of nucleotides at the begining of the rev read that will be used as the UMI (if both are provided the umi will be the concatenation of both)\n",
    "                        quality_threshold: int = 30, #threshold value used to filter out reads of poor average quality\n",
    "                        ignore_pos: list = [], #list of positions that are ignored in the genotype\n",
    "                        reads_per_umi_thr: int = 0, #minimum number of reads required to take a UMI into account. Using a number >2 enables to perform error correction for UMIs with multiple reads.\n",
    "                        save_umi_data: str = None, #path to the csv file where to save the details of the genotypes reads for each UMI. If None the data isn't saved.\n",
    "                        N = None, #number of reads to consider (useful to get a quick view of the data without going through the whole fastq files). If None the whole data will be used.\n",
    "                        ):\n",
    "    \"\"\"Putting things together in a single wrapper function that takes the fastq as input and returns the list of genotypes.\"\"\"\n",
    "    UMI_dict = get_UMI_genotype_paired(fastq_path_fwd, \n",
    "                                         fastq_path_rev, \n",
    "                                         ref_seq, \n",
    "                                         fwd_span=fwd_span, \n",
    "                                         rev_span=rev_span,\n",
    "                                         require_perfect_pair_agreement=require_perfect_pair_agreement,\n",
    "                                         umi_size_fwd=umi_size_fwd,\n",
    "                                         umi_size_rev=umi_size_rev,\n",
    "                                         quality_threshold=quality_threshold,\n",
    "                                         ignore_pos=ignore_pos,\n",
    "                                         N=N\n",
    "                                         )\n",
    "    if save_umi_data:\n",
    "        with open(save_umi_data,\"w\", newline='') as handle: \n",
    "            csv_writer = csv.writer(handle,delimiter=\"\\t\",doublequote=False)\n",
    "            for umi in itertools.islice(UMI_dict,20):\n",
    "                csv_writer.writerow([umi,list(UMI_dict[umi].items())])\n",
    "\n",
    "    UMI_gen_dict=correct_UMI_genotypes(UMI_dict, reads_per_umi_thr)\n",
    "    gen_list = genotype_UMI_counter(UMI_gen_dict)\n",
    "    print(\"Number of genotypes:\", len(gen_list))\n",
    "    return gen_list"
   ]
  },
  {
   "cell_type": "code",
   "execution_count": null,
   "metadata": {},
   "outputs": [
    {
     "name": "stdout",
     "output_type": "stream",
     "text": [
      "n reads:\t1000\n",
      "n_reads pass filter:\t966\n",
      "n_reads aligned:\t0\n",
      "n_pairs agree:\t0\n",
      "Number of UMIs: 0\n",
      "Median number of reads per UMI: nan\n",
      "Number of genotypes: 0\n"
     ]
    },
    {
     "name": "stderr",
     "output_type": "stream",
     "text": [
      "/home/dbikard/anaconda3/envs/DGRec/lib/python3.11/site-packages/numpy/core/fromnumeric.py:3504: RuntimeWarning: Mean of empty slice.\n",
      "  return _methods._mean(a, axis=axis, dtype=dtype,\n",
      "/home/dbikard/anaconda3/envs/DGRec/lib/python3.11/site-packages/numpy/core/_methods.py:129: RuntimeWarning: invalid value encountered in scalar divide\n",
      "  ret = ret.dtype.type(ret / rcount)\n"
     ]
    }
   ],
   "source": [
    "gen_list = get_genotypes_paired(fastq_path_fwd, \n",
    "                        fastq_path_rev, \n",
    "                        ref_seq, \n",
    "                        fwd_span=(0,150), \n",
    "                        rev_span=(0,0),\n",
    "                        umi_size_fwd=0,\n",
    "                        umi_size_rev=10,\n",
    "                        ignore_pos=[0,1,150,151],\n",
    "                        N=10000,\n",
    "                        save_umi_data=\"test.csv\")\n",
    "for g in gen_list[:20]:\n",
    "    print(f\"{g[1]}\\t{g[0]}\")"
   ]
  },
  {
   "cell_type": "code",
   "execution_count": null,
   "metadata": {},
   "outputs": [],
   "source": [
    "#| export\n",
    "#Commande line interface\n",
    "@click.command()\n",
    "@click.argument('fastq', type=click.Path(exists=True))\n",
    "@click.argument('ref', type=click.Path(exists=True))\n",
    "@click.option('--umi_size', '-u', default=10, help=\"Number of nucleotides at the begining of the read that will be used as the UMI\")\n",
    "@click.option('--quality_threshold', '-q', default=10, help=\"threshold value used to filter out reads of poor average quality\")\n",
    "@click.option('--ignore_pos', '-i', default=[], multiple=True, help=\"list of positions that are ignored in the genotype, e.g. [0,1,149,150]\")\n",
    "@click.option('--reads_per_umi_thr', '-r', default=0, help=\"minimum number of reads required to take a UMI into account. Using a number >2 enables to perform error correction for UMIs with multiple reads\")\n",
    "@click.option('--save_umi_data','-s', default=None, help=\"path to a csv file to save the details of the genotypes reads for each UMI. If None the data isn't saved.\")\n",
    "@click.option('--output', '-o', default=\"genotypes.csv\", help=\"output file path\")\n",
    "def dgrec_genotypes(fastq, ref, umi_size, quality_threshold, ignore_pos, reads_per_umi_thr, save_umi_data, output):\n",
    "    ref=next(SeqIO.parse(ref,\"fasta\"))\n",
    "    ref_seq=str(ref.seq)\n",
    "    gen_list = get_genotypes(fastq, ref_seq, \n",
    "                             umi_size=umi_size, \n",
    "                             quality_threshold=quality_threshold, \n",
    "                             ignore_pos=ignore_pos,\n",
    "                             reads_per_umi_thr=reads_per_umi_thr,\n",
    "                             save_umi_data=save_umi_data)\n",
    "    \n",
    "    with open(output,\"w\") as handle:\n",
    "            for g,n in gen_list:\n",
    "                handle.write(f\"{g}\\t{n}\\n\")"
   ]
  },
  {
   "cell_type": "code",
   "execution_count": null,
   "metadata": {},
   "outputs": [],
   "source": [
    "#| hide\n",
    "import subprocess"
   ]
  },
  {
   "cell_type": "code",
   "execution_count": null,
   "metadata": {},
   "outputs": [
    {
     "name": "stderr",
     "output_type": "stream",
     "text": [
      "/home/dbikard/anaconda3/envs/DGRec/lib/python3.11/site-packages/Bio/__init__.py:138: BiopythonWarning: You may be importing Biopython from inside the source tree. This is bad practice and might lead to downstream issues. In particular, you might encounter ImportErrors due to missing compiled C extensions. We recommend that you try running your code from outside the source tree. If you are outside the source tree then you have a setup.py file in an unexpected directory: /home/dbikard/anaconda3/envs/DGRec/lib/python3.11/site-packages\n",
      "  warnings.warn(\n",
      "Traceback (most recent call last):\n",
      "  File \"/home/dbikard/anaconda3/envs/DGRec/bin/dgrec_genotypes\", line 33, in <module>\n",
      "    sys.exit(load_entry_point('dgrec', 'console_scripts', 'dgrec_genotypes')())\n",
      "             ^^^^^^^^^^^^^^^^^^^^^^^^^^^^^^^^^^^^^^^^^^^^^^^^^^^^^^^^^^^^^^^^^\n",
      "  File \"/home/dbikard/anaconda3/envs/DGRec/lib/python3.11/site-packages/click/core.py\", line 1157, in __call__\n",
      "    return self.main(*args, **kwargs)\n",
      "           ^^^^^^^^^^^^^^^^^^^^^^^^^^\n",
      "  File \"/home/dbikard/anaconda3/envs/DGRec/lib/python3.11/site-packages/click/core.py\", line 1078, in main\n",
      "    rv = self.invoke(ctx)\n",
      "         ^^^^^^^^^^^^^^^^\n",
      "  File \"/home/dbikard/anaconda3/envs/DGRec/lib/python3.11/site-packages/click/core.py\", line 1434, in invoke\n",
      "    return ctx.invoke(self.callback, **ctx.params)\n",
      "           ^^^^^^^^^^^^^^^^^^^^^^^^^^^^^^^^^^^^^^^\n",
      "  File \"/home/dbikard/anaconda3/envs/DGRec/lib/python3.11/site-packages/click/core.py\", line 783, in invoke\n",
      "    return __callback(*args, **kwargs)\n",
      "           ^^^^^^^^^^^^^^^^^^^^^^^^^^^\n",
      "  File \"/home/dbikard/DGRec/dgrec/core.py\", line 256, in dgrec_genotypes\n",
      "    gen_list = get_genotypes(fastq, ref_seq, \n",
      "               ^^^^^^^^^^^^^^^^^^^^^^^^^^^^^\n",
      "TypeError: get_genotypes() got an unexpected keyword argument 'reads_per_UMI_thr'\n"
     ]
    },
    {
     "name": "stdout",
     "output_type": "stream",
     "text": [
      "None\n",
      "1\n"
     ]
    }
   ],
   "source": [
    "#| hide\n",
    "#Testing the cli\n",
    "\n",
    "fastq_file=\"sacB_example.fastq.gz\"\n",
    "read_ref_file=\"sacB_ref.fasta\"\n",
    "\n",
    "result = subprocess.run([\"dgrec_genotypes\", \n",
    "                         os.path.join(data_path,fastq_file), \n",
    "                         os.path.join(data_path,read_ref_file),\n",
    "                         ])\n",
    "print(result.stdout)  # Print the standard output of the command\n",
    "print(result.returncode)  # Get the exit code of the command\n",
    "\n",
    "\n",
    "# Remove test files\n",
    "\n",
    "# List all files in the directory\n",
    "files = os.listdir()\n",
    "\n",
    "# Iterate over the files\n",
    "for file in files:\n",
    "    if file.endswith(\".csv\"):\n",
    "        \n",
    "        try:\n",
    "            # Delete the file\n",
    "            os.remove(file)\n",
    "        except PermissionError:\n",
    "            print(f\"Permission denied to delete file '{file}'.\")\n",
    "        except FileNotFoundError:\n",
    "            print(f\"File '{file}' not found.\")"
   ]
  },
  {
   "cell_type": "code",
   "execution_count": null,
   "metadata": {},
   "outputs": [],
   "source": [
    "#| hide\n",
    "import nbdev; nbdev.nbdev_export()"
   ]
  }
 ],
 "metadata": {
  "kernelspec": {
   "display_name": "python3",
   "language": "python",
   "name": "python3"
  }
 },
 "nbformat": 4,
 "nbformat_minor": 4
}
