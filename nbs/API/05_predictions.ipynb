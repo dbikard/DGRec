{
 "cells": [
  {
   "cell_type": "markdown",
   "metadata": {},
   "source": [
    "# predictions\n",
    "\n",
    "> We define all the usefull functions to predict the score from a given sequence"
   ]
  },
  {
   "cell_type": "code",
   "execution_count": null,
   "metadata": {},
   "outputs": [],
   "source": [
    "#| default_exp predictions"
   ]
  },
  {
   "cell_type": "code",
   "execution_count": null,
   "metadata": {},
   "outputs": [],
   "source": [
    "#| export\n",
    "import pickle\n",
    "import sklearn\n",
    "import dgrec\n",
    "import numpy as np\n",
    "import pandas as pd\n",
    "from dgrec.example_data import get_example_data_dir\n",
    "import os\n"
   ]
  },
  {
   "cell_type": "code",
   "execution_count": null,
   "metadata": {},
   "outputs": [
    {
     "ename": "FileNotFoundError",
     "evalue": "[Errno 2] No such file or directory: '/home/prochett/miniconda3/envs/DGRec/lib/python3.11/site-packages/dgrec/example_data/model_mms_2024_02_14.pickle'",
     "output_type": "error",
     "traceback": [
      "\u001b[0;31m---------------------------------------------------------------------------\u001b[0m",
      "\u001b[0;31mFileNotFoundError\u001b[0m                         Traceback (most recent call last)",
      "Cell \u001b[0;32mIn[3], line 4\u001b[0m\n\u001b[1;32m      2\u001b[0m model_name\u001b[38;5;241m=\u001b[39m\u001b[38;5;124m'\u001b[39m\u001b[38;5;124mmodel_mms_2024_02_14.pickle\u001b[39m\u001b[38;5;124m'\u001b[39m\n\u001b[1;32m      3\u001b[0m model_path\u001b[38;5;241m=\u001b[39mos\u001b[38;5;241m.\u001b[39mpath\u001b[38;5;241m.\u001b[39mjoin(data_path,model_name)\n\u001b[0;32m----> 4\u001b[0m model\u001b[38;5;241m=\u001b[39mpickle\u001b[38;5;241m.\u001b[39mload(\u001b[38;5;28;43mopen\u001b[39;49m\u001b[43m(\u001b[49m\u001b[43mmodel_path\u001b[49m\u001b[43m,\u001b[49m\u001b[38;5;124;43m\"\u001b[39;49m\u001b[38;5;124;43mrb\u001b[39;49m\u001b[38;5;124;43m\"\u001b[39;49m\u001b[43m)\u001b[49m)\n",
      "File \u001b[0;32m~/miniconda3/envs/DGRec/lib/python3.11/site-packages/IPython/core/interactiveshell.py:310\u001b[0m, in \u001b[0;36m_modified_open\u001b[0;34m(file, *args, **kwargs)\u001b[0m\n\u001b[1;32m    303\u001b[0m \u001b[38;5;28;01mif\u001b[39;00m file \u001b[38;5;129;01min\u001b[39;00m {\u001b[38;5;241m0\u001b[39m, \u001b[38;5;241m1\u001b[39m, \u001b[38;5;241m2\u001b[39m}:\n\u001b[1;32m    304\u001b[0m     \u001b[38;5;28;01mraise\u001b[39;00m \u001b[38;5;167;01mValueError\u001b[39;00m(\n\u001b[1;32m    305\u001b[0m         \u001b[38;5;124mf\u001b[39m\u001b[38;5;124m\"\u001b[39m\u001b[38;5;124mIPython won\u001b[39m\u001b[38;5;124m'\u001b[39m\u001b[38;5;124mt let you open fd=\u001b[39m\u001b[38;5;132;01m{\u001b[39;00mfile\u001b[38;5;132;01m}\u001b[39;00m\u001b[38;5;124m by default \u001b[39m\u001b[38;5;124m\"\u001b[39m\n\u001b[1;32m    306\u001b[0m         \u001b[38;5;124m\"\u001b[39m\u001b[38;5;124mas it is likely to crash IPython. If you know what you are doing, \u001b[39m\u001b[38;5;124m\"\u001b[39m\n\u001b[1;32m    307\u001b[0m         \u001b[38;5;124m\"\u001b[39m\u001b[38;5;124myou can use builtins\u001b[39m\u001b[38;5;124m'\u001b[39m\u001b[38;5;124m open.\u001b[39m\u001b[38;5;124m\"\u001b[39m\n\u001b[1;32m    308\u001b[0m     )\n\u001b[0;32m--> 310\u001b[0m \u001b[38;5;28;01mreturn\u001b[39;00m \u001b[43mio_open\u001b[49m\u001b[43m(\u001b[49m\u001b[43mfile\u001b[49m\u001b[43m,\u001b[49m\u001b[43m \u001b[49m\u001b[38;5;241;43m*\u001b[39;49m\u001b[43margs\u001b[49m\u001b[43m,\u001b[49m\u001b[43m \u001b[49m\u001b[38;5;241;43m*\u001b[39;49m\u001b[38;5;241;43m*\u001b[39;49m\u001b[43mkwargs\u001b[49m\u001b[43m)\u001b[49m\n",
      "\u001b[0;31mFileNotFoundError\u001b[0m: [Errno 2] No such file or directory: '/home/prochett/miniconda3/envs/DGRec/lib/python3.11/site-packages/dgrec/example_data/model_mms_2024_02_14.pickle'"
     ]
    }
   ],
   "source": [
    "data_path=get_example_data_dir()\n",
    "model_name='model_mms_2024_02_14.pickle'\n",
    "model_path=os.path.join(data_path,model_name)\n",
    "model=pickle.load(open(model_path,\"rb\"))"
   ]
  },
  {
   "cell_type": "code",
   "execution_count": null,
   "metadata": {},
   "outputs": [
    {
     "data": {
      "text/plain": [
       "'/home/prochett/miniconda3/envs/DGRec/lib/python3.11/site-packages/dgrec/example_data/model_mms_2024_02_14.pickle'"
      ]
     },
     "execution_count": null,
     "metadata": {},
     "output_type": "execute_result"
    }
   ],
   "source": [
    "model_path"
   ]
  },
  {
   "cell_type": "code",
   "execution_count": null,
   "metadata": {},
   "outputs": [],
   "source": [
    "# | export\n",
    "\n",
    "def score(TR_seq:str #A string of the TR DNA sequence\n",
    "):\n",
    "\n",
    "    \"\"\"Calculates the predicted score of a given TR sequence (1 = perfect TR and 0 = crappy TR)\"\"\"\n",
    "    encoded_TR=dgrec.encoding.encode_tr_list([TR_seq])\n",
    "    score=np.round(model.predict_proba([encoded_TR[0]])[:,1],decimals=2).item()\n",
    "    return score"
   ]
  },
  {
   "cell_type": "code",
   "execution_count": null,
   "metadata": {},
   "outputs": [
    {
     "name": "stderr",
     "output_type": "stream",
     "text": [
      "100%|██████████| 1/1 [00:00<00:00,  3.49it/s]\n"
     ]
    },
    {
     "name": "stdout",
     "output_type": "stream",
     "text": [
      "TR bad score = 0.13\n"
     ]
    },
    {
     "name": "stderr",
     "output_type": "stream",
     "text": [
      "100%|██████████| 1/1 [00:00<00:00,  4.25it/s]"
     ]
    },
    {
     "name": "stdout",
     "output_type": "stream",
     "text": [
      "TR good score = 0.96\n"
     ]
    },
    {
     "name": "stderr",
     "output_type": "stream",
     "text": [
      "\n"
     ]
    }
   ],
   "source": [
    "TR_bad='TTAGCGAATGGCGAAATTCGTAAACGCCCTCTGATCGAAACCAACGGCGAAACGGGTGAGATCGTGTGGG'\n",
    "print('TR bad score =',score(TR_bad))\n",
    "TR_good='AAATGATCGCCAAATCTGAACAGGAAATTGGCAAAGCAACCGCTAAATACTTTTTCTACTCAAACATTAT'\n",
    "print('TR good score =',score(TR_good))"
   ]
  },
  {
   "cell_type": "code",
   "execution_count": null,
   "metadata": {},
   "outputs": [
    {
     "ename": "IndentationError",
     "evalue": "expected an indented block after function definition on line 2 (4007374085.py, line 5)",
     "output_type": "error",
     "traceback": [
      "\u001b[0;36m  Cell \u001b[0;32mIn[36], line 5\u001b[0;36m\u001b[0m\n\u001b[0;31m    \"\"\"Calculates the score for every TR in the list and returns them in a dataframe format\"\"\"\u001b[0m\n\u001b[0m    ^\u001b[0m\n\u001b[0;31mIndentationError\u001b[0m\u001b[0;31m:\u001b[0m expected an indented block after function definition on line 2\n"
     ]
    }
   ],
   "source": [
    "# | export\n",
    "def score_list(TR_seq_list:list, #A list of strings of TRs DNA sequences\n",
    "TR_name_list:list, #A list of strings of TRs names\n",
    "):\n",
    "    \"\"\"Calculates the score for every TR in the list and returns them in a dataframe format\"\"\"\n",
    "\n",
    "    encoded_TR=dgrec.encoding.encode_tr_list(TR_seq_list)\n",
    "    score=np.round(model.predict_proba(encoded_TR)[:,1],decimals=2)\n",
    "    score_df=pd.DataFrame({\n",
    "        'TR_Name':TR_name_list,\n",
    "        'TR_Seq':TR_seq_list,\n",
    "        'TR_Score':score\n",
    "    })\n",
    "    return score_df"
   ]
  },
  {
   "cell_type": "code",
   "execution_count": null,
   "metadata": {},
   "outputs": [
    {
     "name": "stderr",
     "output_type": "stream",
     "text": [
      "100%|██████████| 8/8 [00:02<00:00,  4.00it/s]\n"
     ]
    },
    {
     "data": {
      "text/html": [
       "<div>\n",
       "<style scoped>\n",
       "    .dataframe tbody tr th:only-of-type {\n",
       "        vertical-align: middle;\n",
       "    }\n",
       "\n",
       "    .dataframe tbody tr th {\n",
       "        vertical-align: top;\n",
       "    }\n",
       "\n",
       "    .dataframe thead th {\n",
       "        text-align: right;\n",
       "    }\n",
       "</style>\n",
       "<table border=\"1\" class=\"dataframe\">\n",
       "  <thead>\n",
       "    <tr style=\"text-align: right;\">\n",
       "      <th></th>\n",
       "      <th>TR_Name</th>\n",
       "      <th>TR_Seq</th>\n",
       "      <th>TR_Score</th>\n",
       "    </tr>\n",
       "  </thead>\n",
       "  <tbody>\n",
       "    <tr>\n",
       "      <th>0</th>\n",
       "      <td>TR_bad_1</td>\n",
       "      <td>TTAGCGAATGGCGAAATTCGTAAACGCCCTCTGATCGAAACCAACG...</td>\n",
       "      <td>0.13</td>\n",
       "    </tr>\n",
       "    <tr>\n",
       "      <th>1</th>\n",
       "      <td>TR_bad_2</td>\n",
       "      <td>AAACGCCCTCTGATCGAAACCAACGGCGAAACGGGTGAGATCGTGT...</td>\n",
       "      <td>0.12</td>\n",
       "    </tr>\n",
       "    <tr>\n",
       "      <th>2</th>\n",
       "      <td>TR_bad_3</td>\n",
       "      <td>GGTTTCTCTAAGGAGTCCATTCTGCCGAAGCGCAACTCCGACAAGC...</td>\n",
       "      <td>0.01</td>\n",
       "    </tr>\n",
       "    <tr>\n",
       "      <th>3</th>\n",
       "      <td>TR_bad_4</td>\n",
       "      <td>CAAGCTGATCGCGCGTAAGAAGGACTGGGATCCGAAGAAGTACGGT...</td>\n",
       "      <td>0.02</td>\n",
       "    </tr>\n",
       "    <tr>\n",
       "      <th>4</th>\n",
       "      <td>TR_bad_5</td>\n",
       "      <td>ACCCGATTGACTTCCTCGAGGCGAAGGGGTACAAGGAGGTGAAGAA...</td>\n",
       "      <td>0.01</td>\n",
       "    </tr>\n",
       "    <tr>\n",
       "      <th>5</th>\n",
       "      <td>TR_bad_6</td>\n",
       "      <td>AGTACTCCCTGTTCGAGCTGGAGAATGGTCGTAAGCGTATGCTGGC...</td>\n",
       "      <td>0.03</td>\n",
       "    </tr>\n",
       "    <tr>\n",
       "      <th>6</th>\n",
       "      <td>TR_bad_7</td>\n",
       "      <td>CAGCACAAGCACTACCTGGACGAGATTATTGAGCAGATTTCTGAGT...</td>\n",
       "      <td>0.09</td>\n",
       "    </tr>\n",
       "    <tr>\n",
       "      <th>7</th>\n",
       "      <td>TR_bad_8</td>\n",
       "      <td>ACGCGAATCTGGATAAGGTCCTGTCTGCCTACAATAAGCACCGTGA...</td>\n",
       "      <td>0.05</td>\n",
       "    </tr>\n",
       "  </tbody>\n",
       "</table>\n",
       "</div>"
      ],
      "text/plain": [
       "    TR_Name                                             TR_Seq  TR_Score\n",
       "0  TR_bad_1  TTAGCGAATGGCGAAATTCGTAAACGCCCTCTGATCGAAACCAACG...      0.13\n",
       "1  TR_bad_2  AAACGCCCTCTGATCGAAACCAACGGCGAAACGGGTGAGATCGTGT...      0.12\n",
       "2  TR_bad_3  GGTTTCTCTAAGGAGTCCATTCTGCCGAAGCGCAACTCCGACAAGC...      0.01\n",
       "3  TR_bad_4  CAAGCTGATCGCGCGTAAGAAGGACTGGGATCCGAAGAAGTACGGT...      0.02\n",
       "4  TR_bad_5  ACCCGATTGACTTCCTCGAGGCGAAGGGGTACAAGGAGGTGAAGAA...      0.01\n",
       "5  TR_bad_6  AGTACTCCCTGTTCGAGCTGGAGAATGGTCGTAAGCGTATGCTGGC...      0.03\n",
       "6  TR_bad_7  CAGCACAAGCACTACCTGGACGAGATTATTGAGCAGATTTCTGAGT...      0.09\n",
       "7  TR_bad_8  ACGCGAATCTGGATAAGGTCCTGTCTGCCTACAATAAGCACCGTGA...      0.05"
      ]
     },
     "execution_count": null,
     "metadata": {},
     "output_type": "execute_result"
    }
   ],
   "source": [
    "TR_bad=[\n",
    "    'TTAGCGAATGGCGAAATTCGTAAACGCCCTCTGATCGAAACCAACGGCGAAACGGGTGAGATCGTGTGGG',\n",
    "    'AAACGCCCTCTGATCGAAACCAACGGCGAAACGGGTGAGATCGTGTGGGACAAAGGTCGTGATTTCGCTA',\n",
    "    'GGTTTCTCTAAGGAGTCCATTCTGCCGAAGCGCAACTCCGACAAGCTGATCGCGCGTAAGAAGGACTGGG',\n",
    "    'CAAGCTGATCGCGCGTAAGAAGGACTGGGATCCGAAGAAGTACGGTGGCTTCGATTCTCCGACCGTGGCG',\n",
    "    'ACCCGATTGACTTCCTCGAGGCGAAGGGGTACAAGGAGGTGAAGAAGGATCTGATTATCAAGCTGCCGAA',\n",
    "    'AGTACTCCCTGTTCGAGCTGGAGAATGGTCGTAAGCGTATGCTGGCGTCTGCGGGTGAGCTGCAGAAGGG',\n",
    "    'CAGCACAAGCACTACCTGGACGAGATTATTGAGCAGATTTCTGAGTTTTCTAAGCGCGTGATTCTGGCGG',\n",
    "    'ACGCGAATCTGGATAAGGTCCTGTCTGCCTACAATAAGCACCGTGATAAGCCGATCCGTGAGCAGGCGGA',   \n",
    "]\n",
    "\n",
    "score_list(TR_bad,['TR_bad_'+str(k) for k in range (1,9)])\n"
   ]
  },
  {
   "cell_type": "code",
   "execution_count": null,
   "metadata": {},
   "outputs": [
    {
     "name": "stderr",
     "output_type": "stream",
     "text": [
      "100%|██████████| 8/8 [00:02<00:00,  3.91it/s]\n"
     ]
    },
    {
     "data": {
      "text/html": [
       "<div>\n",
       "<style scoped>\n",
       "    .dataframe tbody tr th:only-of-type {\n",
       "        vertical-align: middle;\n",
       "    }\n",
       "\n",
       "    .dataframe tbody tr th {\n",
       "        vertical-align: top;\n",
       "    }\n",
       "\n",
       "    .dataframe thead th {\n",
       "        text-align: right;\n",
       "    }\n",
       "</style>\n",
       "<table border=\"1\" class=\"dataframe\">\n",
       "  <thead>\n",
       "    <tr style=\"text-align: right;\">\n",
       "      <th></th>\n",
       "      <th>TR_Name</th>\n",
       "      <th>TR_Seq</th>\n",
       "      <th>TR_Score</th>\n",
       "    </tr>\n",
       "  </thead>\n",
       "  <tbody>\n",
       "    <tr>\n",
       "      <th>0</th>\n",
       "      <td>TR_good_1</td>\n",
       "      <td>AAATGATCGCCAAATCTGAACAGGAAATTGGCAAAGCAACCGCTAA...</td>\n",
       "      <td>0.96</td>\n",
       "    </tr>\n",
       "    <tr>\n",
       "      <th>1</th>\n",
       "      <td>TR_good_2</td>\n",
       "      <td>TCAAACATTATGAATTTCTTCAAAACCGAAATCACCTTAGCGAATG...</td>\n",
       "      <td>0.95</td>\n",
       "    </tr>\n",
       "    <tr>\n",
       "      <th>2</th>\n",
       "      <td>TR_good_3</td>\n",
       "      <td>ATGCCTCAAGTAAACATCGTTAAAAAGACTGAGGTGCAGACTGGCG...</td>\n",
       "      <td>0.92</td>\n",
       "    </tr>\n",
       "    <tr>\n",
       "      <th>3</th>\n",
       "      <td>TR_good_4</td>\n",
       "      <td>GGATCCGAAGAAGTACGGTGGCTTCGATTCTCCGACCGTGGCGTAC...</td>\n",
       "      <td>0.89</td>\n",
       "    </tr>\n",
       "    <tr>\n",
       "      <th>4</th>\n",
       "      <td>TR_good_5</td>\n",
       "      <td>AGCGTATGCTGGCGTCTGCGGGTGAGCTGCAGAAGGGGAACGAGTT...</td>\n",
       "      <td>0.91</td>\n",
       "    </tr>\n",
       "    <tr>\n",
       "      <th>5</th>\n",
       "      <td>TR_good_6</td>\n",
       "      <td>GCAGAAGGGGAACGAGTTGGCCCTTCCGTCCAAGTACGTGAACTTC...</td>\n",
       "      <td>0.83</td>\n",
       "    </tr>\n",
       "    <tr>\n",
       "      <th>6</th>\n",
       "      <td>TR_good_7</td>\n",
       "      <td>CAGAAGCAGCTGTTCGTGGAGCAGCACAAGCACTACCTGGACGAGA...</td>\n",
       "      <td>0.90</td>\n",
       "    </tr>\n",
       "    <tr>\n",
       "      <th>7</th>\n",
       "      <td>TR_good_8</td>\n",
       "      <td>CTAAGCGCGTGATTCTGGCGGACGCGAATCTGGATAAGGTCCTGTC...</td>\n",
       "      <td>0.92</td>\n",
       "    </tr>\n",
       "  </tbody>\n",
       "</table>\n",
       "</div>"
      ],
      "text/plain": [
       "     TR_Name                                             TR_Seq  TR_Score\n",
       "0  TR_good_1  AAATGATCGCCAAATCTGAACAGGAAATTGGCAAAGCAACCGCTAA...      0.96\n",
       "1  TR_good_2  TCAAACATTATGAATTTCTTCAAAACCGAAATCACCTTAGCGAATG...      0.95\n",
       "2  TR_good_3  ATGCCTCAAGTAAACATCGTTAAAAAGACTGAGGTGCAGACTGGCG...      0.92\n",
       "3  TR_good_4  GGATCCGAAGAAGTACGGTGGCTTCGATTCTCCGACCGTGGCGTAC...      0.89\n",
       "4  TR_good_5  AGCGTATGCTGGCGTCTGCGGGTGAGCTGCAGAAGGGGAACGAGTT...      0.91\n",
       "5  TR_good_6  GCAGAAGGGGAACGAGTTGGCCCTTCCGTCCAAGTACGTGAACTTC...      0.83\n",
       "6  TR_good_7  CAGAAGCAGCTGTTCGTGGAGCAGCACAAGCACTACCTGGACGAGA...      0.90\n",
       "7  TR_good_8  CTAAGCGCGTGATTCTGGCGGACGCGAATCTGGATAAGGTCCTGTC...      0.92"
      ]
     },
     "execution_count": null,
     "metadata": {},
     "output_type": "execute_result"
    }
   ],
   "source": [
    "TR_good=[\n",
    "    'AAATGATCGCCAAATCTGAACAGGAAATTGGCAAAGCAACCGCTAAATACTTTTTCTACTCAAACATTAT',\n",
    "    'TCAAACATTATGAATTTCTTCAAAACCGAAATCACCTTAGCGAATGGCGAAATTCGTAAACGCCCTCTGA',\n",
    "    'ATGCCTCAAGTAAACATCGTTAAAAAGACTGAGGTGCAGACTGGCGGTTTCTCTAAGGAGTCCATTCTGC',\n",
    "    'GGATCCGAAGAAGTACGGTGGCTTCGATTCTCCGACCGTGGCGTACTCTGTTCTGGTGGTCGCCAAGGTC',\n",
    "    'AGCGTATGCTGGCGTCTGCGGGTGAGCTGCAGAAGGGGAACGAGTTGGCCCTTCCGTCCAAGTACGTGAA',\n",
    "    'GCAGAAGGGGAACGAGTTGGCCCTTCCGTCCAAGTACGTGAACTTCCTGTACCTGGCCTCGCACTACGAG',\n",
    "    'CAGAAGCAGCTGTTCGTGGAGCAGCACAAGCACTACCTGGACGAGATTATTGAGCAGATTTCTGAGTTTT',\n",
    "    'CTAAGCGCGTGATTCTGGCGGACGCGAATCTGGATAAGGTCCTGTCTGCCTACAATAAGCACCGTGATAA'\n",
    "    ]\n",
    "\n",
    "score_list(TR_good,['TR_good_'+str(k) for k in range (1,9)])"
   ]
  },
  {
   "cell_type": "code",
   "execution_count": null,
   "metadata": {},
   "outputs": [],
   "source": []
  }
 ],
 "metadata": {
  "kernelspec": {
   "display_name": "python3",
   "language": "python",
   "name": "python3"
  }
 },
 "nbformat": 4,
 "nbformat_minor": 2
}
