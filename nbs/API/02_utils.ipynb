{
 "cells": [
  {
   "cell_type": "markdown",
   "metadata": {},
   "source": [
    "# utils"
   ]
  },
  {
   "cell_type": "code",
   "execution_count": null,
   "metadata": {},
   "outputs": [],
   "source": [
    "#| default_exp utils"
   ]
  },
  {
   "cell_type": "code",
   "execution_count": null,
   "metadata": {},
   "outputs": [],
   "source": [
    "#| export\n",
    "import gzip\n",
    "import itertools\n",
    "import os\n",
    "import csv\n",
    "from Bio import pairwise2\n",
    "from Bio.pairwise2 import format_alignment"
   ]
  },
  {
   "cell_type": "code",
   "execution_count": null,
   "metadata": {},
   "outputs": [],
   "source": [
    "#| export\n",
    "def mut_to_str(mutations: list):\n",
    "    \"\"\"Converts list of mutations to a comma separated string\"\"\"\n",
    "    mut_str_list=[''.join(map(str,mut)) for mut in mutations]\n",
    "    mut_str=','.join(mut_str_list)\n",
    "    return mut_str"
   ]
  },
  {
   "cell_type": "code",
   "execution_count": null,
   "metadata": {},
   "outputs": [
    {
     "data": {
      "text/plain": [
       "'-4A,-7T,G12C'"
      ]
     },
     "execution_count": null,
     "metadata": {},
     "output_type": "execute_result"
    }
   ],
   "source": [
    "mut_to_str([('-', 4, 'A'), ('-', 7, 'T'), ('G', 12, 'C')])"
   ]
  },
  {
   "cell_type": "code",
   "execution_count": null,
   "metadata": {},
   "outputs": [],
   "source": [
    "#| export\n",
    "def str_to_mut(gen: str):\n",
    "    \"\"\"Converts genotype string to a list of mutations\"\"\"\n",
    "    mutations=[]\n",
    "    g=gen.split(',')\n",
    "    for mut in g:\n",
    "        mut_from=mut[0]\n",
    "        ix=int(mut[1:-1])\n",
    "        mut_to=mut[-1]\n",
    "        mutations.append([mut_from,ix,mut_to])\n",
    "\n",
    "    return mutations"
   ]
  },
  {
   "cell_type": "code",
   "execution_count": null,
   "metadata": {},
   "outputs": [
    {
     "data": {
      "text/plain": [
       "[['-', 4, 'A'], ['-', 7, 'T'], ['G', 12, 'C']]"
      ]
     },
     "execution_count": null,
     "metadata": {},
     "output_type": "execute_result"
    }
   ],
   "source": [
    "str_to_mut('-4A,-7T,G12C')"
   ]
  },
  {
   "cell_type": "code",
   "execution_count": null,
   "metadata": {},
   "outputs": [],
   "source": [
    "#| export\n",
    "def parse_genotypes(genotypes_file):\n",
    "    gen_list=[]\n",
    "    with open(genotypes_file,\"r\") as handle: \n",
    "        reader = csv.reader(handle, delimiter='\\t')\n",
    "        for row in reader:\n",
    "            gen_list.append((row[0],int(row[1])))\n",
    "    return gen_list"
   ]
  },
  {
   "cell_type": "code",
   "execution_count": null,
   "metadata": {},
   "outputs": [],
   "source": [
    "from dgrec.example_data import get_example_data_dir"
   ]
  },
  {
   "cell_type": "code",
   "execution_count": null,
   "metadata": {},
   "outputs": [
    {
     "name": "stdout",
     "output_type": "stream",
     "text": [
      "20 \t A72G,A79G\n",
      "19 \t A72G,A79T,A91G\n",
      "17 \t T67G,A91G\n",
      "17 \t A76G,A79T\n",
      "17 \t A68C,A72G\n",
      "17 \t A111G\n",
      "16 \t A68G,A91G\n",
      "16 \t A86G,A91T\n",
      "15 \t A72G,A91T\n",
      "15 \t A79G,A86G\n"
     ]
    }
   ],
   "source": [
    "data_path=get_example_data_dir()\n",
    "gen_list=parse_genotypes(os.path.join(data_path,\"sacB_genotypes.csv\"))\n",
    "for g,n in itertools.islice(gen_list,30,40):\n",
    "    print(n,\"\\t\",g)"
   ]
  },
  {
   "cell_type": "code",
   "execution_count": null,
   "metadata": {},
   "outputs": [],
   "source": [
    "#| export\n",
    "\n",
    "def downsample_fastq_gz(input_file, output_file, num_reads=10000):\n",
    "    \"\"\"Downsamples a compressed FASTQ file to the specified number of reads.\n",
    "\n",
    "    Args:\n",
    "        input_file (str): Path to the input FASTQ.gz file.\n",
    "        output_file (str): Path to the output FASTQ.gz file.\n",
    "        num_reads (int, optional): Number of reads to keep. Defaults to 10000.\n",
    "    \"\"\"\n",
    "\n",
    "    with gzip.open(input_file, 'rb') as infile, gzip.open(output_file, 'wb') as outfile:\n",
    "        lines = itertools.islice(infile, num_reads * 4)  # Read 4 lines (1 read) at a time\n",
    "        for line in lines:\n",
    "            outfile.write(line)"
   ]
  },
  {
   "cell_type": "code",
   "execution_count": null,
   "metadata": {},
   "outputs": [],
   "source": [
    "\n",
    "input_file=os.path.join(data_path,\"sacB_example.fastq.gz\")\n",
    "output_file=\"sacB_example_downsampled.fastq.gz\"\n",
    "downsample_fastq_gz(input_file, output_file, num_reads=100)\n",
    "\n"
   ]
  },
  {
   "cell_type": "code",
   "execution_count": null,
   "metadata": {},
   "outputs": [],
   "source": [
    "#| hide\n",
    "# Remove test files\n",
    "\n",
    "# List all files in the directory\n",
    "files = os.listdir()\n",
    "\n",
    "# Iterate over the files\n",
    "for file in files:\n",
    "    if file.endswith(\".gz\"):\n",
    "        \n",
    "        try:\n",
    "            # Delete the file\n",
    "            os.remove(file)\n",
    "        except PermissionError:\n",
    "            print(f\"Permission denied to delete file '{file}'.\")\n",
    "        except FileNotFoundError:\n",
    "            print(f\"File '{file}' not found.\")"
   ]
  },
  {
   "cell_type": "code",
   "execution_count": null,
   "metadata": {},
   "outputs": [],
   "source": [
    "#| hide\n",
    "import nbdev; nbdev.nbdev_export()"
   ]
  }
 ],
 "metadata": {
  "kernelspec": {
   "display_name": "python3",
   "language": "python",
   "name": "python3"
  }
 },
 "nbformat": 4,
 "nbformat_minor": 2
}
