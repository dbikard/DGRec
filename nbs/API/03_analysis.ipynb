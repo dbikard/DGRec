{
 "cells": [
  {
   "cell_type": "markdown",
   "metadata": {},
   "source": [
    "# analysis"
   ]
  },
  {
   "cell_type": "code",
   "execution_count": null,
   "metadata": {},
   "outputs": [],
   "source": [
    "#| default_exp analysis"
   ]
  },
  {
   "cell_type": "code",
   "execution_count": null,
   "metadata": {},
   "outputs": [],
   "source": [
    "#| export\n",
    "from dgrec.utils import parse_genotypes, str_to_mut\n",
    "import os\n",
    "import numpy as np\n",
    "from Bio import SeqIO\n",
    "import matplotlib.pyplot as plt"
   ]
  },
  {
   "cell_type": "code",
   "execution_count": null,
   "metadata": {},
   "outputs": [],
   "source": [
    "from dgrec.example_data import get_example_data_dir"
   ]
  },
  {
   "cell_type": "code",
   "execution_count": null,
   "metadata": {},
   "outputs": [],
   "source": [
    "#| export\n",
    "bases=list(\"ATGC\")\n",
    "def mut_rate(gen_list, #a genotype list with the number of molecules detected\n",
    "             ran, #the position range in which to compute the mutation rate. If None the rate is computed for the full sequence.\n",
    "             ref_seq, #reference sequence\n",
    "             base_restriction = [\"A\",\"T\",\"G\",\"C\"], #computes the mutation rate only at the base specified\n",
    "             ):\n",
    "    \"\"\"Computes the mutation rate per base within the specified range. The rate can be computed for specific bases using the base_restriction argument.\"\"\"\n",
    "    nWT=gen_list[0][1]\n",
    "    base_counts=dict([(b,ref_seq[ran.start:ran.stop].count(b)) for b in bases])\n",
    "    nbases=sum([base_counts[b] for b in base_restriction])\n",
    "    assert(nbases>0)\n",
    "\n",
    "    nmut=0\n",
    "    for g,n in gen_list:\n",
    "        gens=str_to_mut(g)\n",
    "        mutpos_in_range=np.array([gen[1] in ran for gen in gens if ref_seq[gen[1]] in base_restriction])\n",
    "        if mutpos_in_range.any():\n",
    "            nmut+=n\n",
    "\n",
    "    return (nmut/nWT)/nbases\n",
    "\n",
    "        "
   ]
  },
  {
   "cell_type": "code",
   "execution_count": null,
   "metadata": {},
   "outputs": [
    {
     "name": "stdout",
     "output_type": "stream",
     "text": [
      "279 \t A91G\n",
      "28 \t A68C\n",
      "15 \t A72G,A79T,A91T\n",
      "10 \t A61G,A72G\n",
      "6 \t A61G,A68G\n",
      "6 \t A68G,A76G,A91G\n",
      "5 \t A61T,A79G\n",
      "4 \t A86T\n",
      "4 \t A72G,A76G,A86G,A91T\n",
      "3 \t A61T,A76G,A91G\n"
     ]
    }
   ],
   "source": [
    "data_path=get_example_data_dir()\n",
    "gen_list=parse_genotypes(os.path.join(data_path,\"sacB_genotypes.csv\"))\n",
    "\n",
    "read_ref_file=\"sacB_ref.fasta\"\n",
    "ref=next(SeqIO.parse(os.path.join(data_path,read_ref_file),\"fasta\"))\n",
    "ref_seq=str(ref.seq)\n",
    "\n",
    "#showing a few example lines\n",
    "for g,n in gen_list[1:200:20]:\n",
    "    print(n,\"\\t\",g)"
   ]
  },
  {
   "cell_type": "code",
   "execution_count": null,
   "metadata": {},
   "outputs": [
    {
     "name": "stdout",
     "output_type": "stream",
     "text": [
      "Mutation rate on full sequence: 7.8e-04\n",
      "Mutation rate on the VR: 1.5e-03\n",
      "Mutation rate outside the VR: 7.5e-05\n"
     ]
    }
   ],
   "source": [
    "TR_range=range(50,119)\n",
    "before_TR_range=range(50)\n",
    "print(f\"Mutation rate on full sequence: {mut_rate(gen_list,range(140),ref_seq):.1e}\\n\\\n",
    "Mutation rate on the VR: {mut_rate(gen_list,TR_range,ref_seq):.1e}\\n\\\n",
    "Mutation rate outside the VR: {mut_rate(gen_list,before_TR_range,ref_seq):.1e}\")"
   ]
  },
  {
   "cell_type": "code",
   "execution_count": null,
   "metadata": {},
   "outputs": [],
   "source": [
    "#| hide\n",
    "import nbdev; nbdev.nbdev_export()"
   ]
  }
 ],
 "metadata": {
  "kernelspec": {
   "display_name": "python3",
   "language": "python",
   "name": "python3"
  }
 },
 "nbformat": 4,
 "nbformat_minor": 2
}
