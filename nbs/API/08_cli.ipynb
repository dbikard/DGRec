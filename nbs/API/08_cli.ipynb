{
 "cells": [
  {
   "cell_type": "markdown",
   "metadata": {},
   "source": [
    "# Command line interface"
   ]
  },
  {
   "cell_type": "code",
   "execution_count": null,
   "metadata": {},
   "outputs": [
    {
     "name": "stdout",
     "output_type": "stream",
     "text": [
      "The autoreload extension is already loaded. To reload it, use:\n",
      "  %reload_ext autoreload\n"
     ]
    }
   ],
   "source": [
    "#| hide\n",
    "%load_ext autoreload\n",
    "%autoreload 2"
   ]
  },
  {
   "cell_type": "code",
   "execution_count": null,
   "metadata": {},
   "outputs": [],
   "source": [
    "#| default_exp cli"
   ]
  },
  {
   "cell_type": "code",
   "execution_count": null,
   "metadata": {},
   "outputs": [],
   "source": [
    "#| hide\n",
    "from nbdev.showdoc import *\n"
   ]
  },
  {
   "cell_type": "code",
   "execution_count": null,
   "metadata": {},
   "outputs": [],
   "source": [
    "#| export\n",
    "from fastcore.basics import *\n",
    "from Bio import SeqIO\n",
    "import gzip as gz\n",
    "import os\n",
    "from collections import defaultdict, Counter\n",
    "import numpy as np\n",
    "import itertools\n",
    "import click\n",
    "import csv\n",
    "from dgrec.utils import get_mutations, mut_to_str\n",
    "from dgrec.genotypes import get_genotypes\n",
    "from dgrec.genotypes_paired import get_genotypes_paired"
   ]
  },
  {
   "cell_type": "code",
   "execution_count": null,
   "metadata": {},
   "outputs": [],
   "source": [
    "#| hide\n",
    "from dgrec.example_data import get_example_data_dir"
   ]
  },
  {
   "cell_type": "code",
   "execution_count": null,
   "metadata": {},
   "outputs": [
    {
     "data": {
      "text/plain": [
       "['paired_example1_R2.fastq.gz',\n",
       " 'sacB_genotypes.csv',\n",
       " 'sacB_ref.fasta',\n",
       " '__pycache__',\n",
       " 'model_mms_2024_02_14.pickle',\n",
       " 'sacB_example.fastq.gz',\n",
       " 'example1_ref.fasta',\n",
       " 'paired_example1_R1.fastq.gz',\n",
       " '__init__.py']"
      ]
     },
     "execution_count": null,
     "metadata": {},
     "output_type": "execute_result"
    }
   ],
   "source": [
    "#| hide\n",
    "data_path=get_example_data_dir()\n",
    "os.listdir(data_path)"
   ]
  },
  {
   "cell_type": "code",
   "execution_count": null,
   "metadata": {},
   "outputs": [],
   "source": [
    "#| hide\n",
    "import subprocess"
   ]
  },
  {
   "cell_type": "code",
   "execution_count": null,
   "metadata": {},
   "outputs": [],
   "source": [
    "#| export\n",
    "#Commande line interface\n",
    "@click.group()\n",
    "def dgrec():\n",
    "    pass"
   ]
  },
  {
   "cell_type": "code",
   "execution_count": null,
   "metadata": {},
   "outputs": [],
   "source": [
    "#| export\n",
    "\n",
    "@dgrec.command('genotypes')\n",
    "@click.argument('fastq', type=click.Path(exists=True))\n",
    "@click.argument('ref', type=click.Path(exists=True))\n",
    "@click.option('--umi_size', '-u', default=10, help=\"Number of nucleotides at the begining of the read that will be used as the UMI\")\n",
    "@click.option('--quality_threshold', '-q', default=10, help=\"threshold value used to filter out reads of poor average quality\")\n",
    "@click.option('--ignore_pos', '-i', default=[], multiple=True, help=\"list of positions that are ignored in the genotype, e.g. [0,1,149,150]\")\n",
    "@click.option('--reads_per_umi_thr', '-r', default=0, help=\"minimum number of reads required to take a UMI into account. Using a number >2 enables to perform error correction for UMIs with multiple reads\")\n",
    "@click.option('--save_umi_data','-s', default=None, help=\"path to a csv file to save the details of the genotypes reads for each UMI. If None the data isn't saved.\")\n",
    "@click.option('--output', '-o', default=\"genotypes.csv\", help=\"output file path\")\n",
    "def genotypes(fastq, ref, umi_size, quality_threshold, ignore_pos, reads_per_umi_thr, save_umi_data, output):\n",
    "    ref=next(SeqIO.parse(ref,\"fasta\"))\n",
    "    ref_seq=str(ref.seq)\n",
    "    gen_list = get_genotypes(fastq, ref_seq, \n",
    "                             umi_size=umi_size, \n",
    "                             quality_threshold=quality_threshold, \n",
    "                             ignore_pos=ignore_pos,\n",
    "                             reads_per_umi_thr=reads_per_umi_thr,\n",
    "                             save_umi_data=save_umi_data)\n",
    "    \n",
    "    with open(output,\"w\") as handle:\n",
    "            for g,n in gen_list:\n",
    "                handle.write(f\"{g}\\t{n}\\n\")"
   ]
  },
  {
   "cell_type": "code",
   "execution_count": null,
   "metadata": {},
   "outputs": [
    {
     "name": "stderr",
     "output_type": "stream",
     "text": [
      "/home/dbikard/anaconda3/envs/DGRec/lib/python3.11/site-packages/Bio/__init__.py:138: BiopythonWarning: You may be importing Biopython from inside the source tree. This is bad practice and might lead to downstream issues. In particular, you might encounter ImportErrors due to missing compiled C extensions. We recommend that you try running your code from outside the source tree. If you are outside the source tree then you have a setup.py file in an unexpected directory: /home/dbikard/anaconda3/envs/DGRec/lib/python3.11/site-packages\n",
      "  warnings.warn(\n"
     ]
    },
    {
     "name": "stdout",
     "output_type": "stream",
     "text": [
      "n reads:\t1000\n",
      "n_reads pass filter:\t955\n",
      "n_reads aligned:\t912\n",
      "Number of UMIs: 902\n",
      "Median number of reads per UMI: 1.0\n",
      "Number of genotypes: 185\n",
      "None\n",
      "0\n"
     ]
    }
   ],
   "source": [
    "#| hide\n",
    "#Testing the cli\n",
    "\n",
    "fastq_file=\"sacB_example.fastq.gz\"\n",
    "read_ref_file=\"sacB_ref.fasta\"\n",
    "\n",
    "result = subprocess.run([\"dgrec\",\"genotypes\", \n",
    "                         os.path.join(data_path,fastq_file), \n",
    "                         os.path.join(data_path,read_ref_file),\n",
    "                         ])\n",
    "print(result.stdout)  # Print the standard output of the command\n",
    "print(result.returncode)  # Get the exit code of the command\n",
    "\n",
    "\n",
    "# Remove test files\n",
    "\n",
    "# List all files in the directory\n",
    "files = os.listdir()\n",
    "\n",
    "# Iterate over the files\n",
    "for file in files:\n",
    "    if file.endswith(\".csv\"):\n",
    "        \n",
    "        try:\n",
    "            # Delete the file\n",
    "            os.remove(file)\n",
    "        except PermissionError:\n",
    "            print(f\"Permission denied to delete file '{file}'.\")\n",
    "        except FileNotFoundError:\n",
    "            print(f\"File '{file}' not found.\")"
   ]
  },
  {
   "cell_type": "code",
   "execution_count": null,
   "metadata": {},
   "outputs": [],
   "source": [
    "#| export\n",
    "\n",
    "@dgrec.command('genotypes_paired')\n",
    "@click.argument('fastq_fwd', type=click.Path(exists=True))\n",
    "@click.argument('fastq_rev', type=click.Path(exists=True))\n",
    "@click.argument('ref', type=click.Path(exists=True))\n",
    "@click.option('--fwd_span', nargs=2, type=(int, int), required = True, \n",
    "              help =\"Span of the reference sequence read in the forward orientation format: (start, end)\")\n",
    "@click.option('--rev_span', nargs=2, type=(int, int), required = True, \n",
    "              help =\"Span of the reference sequence read in the reverse orientation format: (start, end)\")\n",
    "@click.option('--require_perfect_pair_agreement', '-p', is_flag=True, default=True, \n",
    "              help=\"Require perfect pair agreement for genotype calling (default: True).\\\n",
    "                  If set to False, the forward sequence will be used in case of disagreement.\")\n",
    "@click.option('--umi_size_fwd', '-u1', default=10,\n",
    "              help=\"Number of nucleotides at the beginning of the fwd read that will be used as the UMI (default: 10)\")\n",
    "@click.option('--umi_size_rev', '-u2', default=0,\n",
    "              help=\"Number of nucleotides at the beginning of the rev read that will be used as the UMI (default: 0)\")\n",
    "@click.option('--quality_threshold', '-q', default=30,\n",
    "              help=\"Threshold value used to filter out reads of poor average quality (default: 30)\")\n",
    "@click.option('--ignore_pos', '-i', default=[], multiple=True,\n",
    "              help=\"List of positions that are ignored in the genotype (default: [])\")\n",
    "@click.option('--reads_per_umi_thr', '-r', default=0,\n",
    "              help=\"Minimum number of reads required to take a UMI into account (default: 0).\\\n",
    "                  Using a number >2 enables to perform error correction for UMIs with multiple reads\")\n",
    "@click.option('--save_umi_data','-s', default=None,\n",
    "              help=\"Path to a csv file to save the details of the genotypes reads for each UMI. If None the data isn't saved (default: None)\")\n",
    "@click.option('-n', default=None, help=\"Number of reads to use. If None all the reads are used (default: None)\")\n",
    "@click.option('--output', '-o', default=\"genotypes.csv\", help=\"Output file path\")\n",
    "def genotypes_paired(fastq_fwd, fastq_rev, ref, fwd_span, rev_span, require_perfect_pair_agreement, umi_size_fwd, umi_size_rev, quality_threshold, ignore_pos, reads_per_umi_thr, save_umi_data, n, output):\n",
    "  \"\"\"Calls dgrec.genotypes_paired.get_genotypes_paired\n",
    "  \"\"\"\n",
    "  ref=next(SeqIO.parse(ref,\"fasta\"))\n",
    "  ref_seq=str(ref.seq)\n",
    "  gen_list = get_genotypes_paired(fastq_fwd, fastq_rev, ref_seq, \n",
    "                                   fwd_span=fwd_span, \n",
    "                                   rev_span=rev_span,\n",
    "                                   require_perfect_pair_agreement=require_perfect_pair_agreement,\n",
    "                                   umi_size_fwd=umi_size_fwd, \n",
    "                                   umi_size_rev=umi_size_rev,\n",
    "                                   quality_threshold=quality_threshold, \n",
    "                                   ignore_pos=ignore_pos,\n",
    "                                   reads_per_umi_thr=reads_per_umi_thr,\n",
    "                                   save_umi_data=save_umi_data,\n",
    "                                   N=int(n))\n",
    "  \n",
    "  with open(output,\"w\") as handle:\n",
    "    for g,n in gen_list:\n",
    "      handle.write(f\"{g}\\t{n}\\n\")\n"
   ]
  },
  {
   "cell_type": "code",
   "execution_count": null,
   "metadata": {},
   "outputs": [
    {
     "name": "stderr",
     "output_type": "stream",
     "text": [
      "/home/dbikard/anaconda3/envs/DGRec/lib/python3.11/site-packages/Bio/__init__.py:138: BiopythonWarning: You may be importing Biopython from inside the source tree. This is bad practice and might lead to downstream issues. In particular, you might encounter ImportErrors due to missing compiled C extensions. We recommend that you try running your code from outside the source tree. If you are outside the source tree then you have a setup.py file in an unexpected directory: /home/dbikard/anaconda3/envs/DGRec/lib/python3.11/site-packages\n",
      "  warnings.warn(\n"
     ]
    },
    {
     "name": "stdout",
     "output_type": "stream",
     "text": [
      "n reads:\t10\n",
      "n_reads pass filter:\t10\n",
      "n_reads aligned:\t10\n",
      "n_pairs agree:\t0\n",
      "Number of UMIs: 10\n",
      "Median number of reads per UMI: 1.0\n",
      "Number of genotypes: 5\n",
      "None\n",
      "0\n"
     ]
    }
   ],
   "source": [
    "#| hide\n",
    "# Define mocked fastq paths (replace with actual paths if needed)\n",
    "fastq_fwd = os.path.join(data_path,\"paired_example1_R2.fastq.gz\")\n",
    "fastq_rev = os.path.join(data_path,\"paired_example1_R1.fastq.gz\")\n",
    "ref_file = os.path.join(data_path,\"example1_ref.fasta\")\n",
    "# Define output file path\n",
    "output_file = \"test_genotypes.csv\"\n",
    "\n",
    "\n",
    "# Test the command with arguments\n",
    "result = subprocess.run([\"dgrec\",\"genotypes_paired\", \n",
    "                        fastq_fwd, fastq_rev, ref_file, \n",
    "                        \"--fwd_span\", \"0\", \"150\", \n",
    "                        \"--rev_span\", \"0\", \"0\", \n",
    "                         \"-u1\", \"0\", \"-u2\", \"10\", \"-n\", \"10\",\n",
    "                          \"-o\", output_file])\n",
    "print(result.stdout)  # Print the standard output of the command\n",
    "print(result.returncode)  # Get the exit code of the command# Assert successful execution - exit code 0\n",
    "\n",
    "\n",
    "# Cleanup - remove the output file\n",
    "try:\n",
    "  os.remove(output_file)\n",
    "except FileNotFoundError:\n",
    "  pass  # Ignore if file not found\n"
   ]
  },
  {
   "cell_type": "code",
   "execution_count": null,
   "metadata": {},
   "outputs": [],
   "source": [
    "#| hide\n",
    "import nbdev; nbdev.nbdev_export()"
   ]
  }
 ],
 "metadata": {
  "kernelspec": {
   "display_name": "python3",
   "language": "python",
   "name": "python3"
  }
 },
 "nbformat": 4,
 "nbformat_minor": 4
}
