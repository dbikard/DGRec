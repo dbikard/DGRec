{
 "cells": [
  {
   "cell_type": "markdown",
   "metadata": {},
   "source": [
    "# dgrec\n",
    "\n",
    "> Analysing DGRec data"
   ]
  },
  {
   "cell_type": "markdown",
   "metadata": {},
   "source": [
    "## Install"
   ]
  },
  {
   "cell_type": "markdown",
   "metadata": {},
   "source": [
    "```sh\n",
    "pip install git+https://github.com/dbikard/dgrec.git\n",
    "```"
   ]
  },
  {
   "cell_type": "markdown",
   "metadata": {},
   "source": [
    "## How to use"
   ]
  },
  {
   "cell_type": "markdown",
   "metadata": {},
   "source": [
    "### Command line interface"
   ]
  },
  {
   "cell_type": "markdown",
   "metadata": {},
   "source": [
    "```sh\n",
    "dgrec_genotypes fastq_path reference_path -o genotypes.csv\n",
    "```"
   ]
  },
  {
   "cell_type": "code",
   "execution_count": null,
   "metadata": {},
   "outputs": [
    {
     "name": "stdout",
     "output_type": "stream",
     "text": [
      "/home/dbikard/anaconda3/envs/DGRec/lib/python3.11/site-packages/Bio/__init__.py:138: BiopythonWarning: You may be importing Biopython from inside the source tree. This is bad practice and might lead to downstream issues. In particular, you might encounter ImportErrors due to missing compiled C extensions. We recommend that you try running your code from outside the source tree. If you are outside the source tree then you have a setup.py file in an unexpected directory: /home/dbikard/anaconda3/envs/DGRec/lib/python3.11/site-packages\n",
      "  warnings.warn(\n",
      "/home/dbikard/anaconda3/envs/DGRec/lib/python3.11/site-packages/Bio/pairwise2.py:278: BiopythonDeprecationWarning: Bio.pairwise2 has been deprecated, and we intend to remove it in a future release of Biopython. As an alternative, please consider using Bio.Align.PairwiseAligner as a replacement, and contact the Biopython developers if you still need the Bio.pairwise2 module.\n",
      "  warnings.warn(\n",
      "Usage: dgrec_genotypes [OPTIONS] FASTQ REF\n",
      "\n",
      "Options:\n",
      "  -u, --umi_size INTEGER          Number of nucleotides at the begining of the\n",
      "                                  read that will be used as the UMI\n",
      "  -q, --quality_threshold INTEGER\n",
      "                                  threshold value used to filter out reads of\n",
      "                                  poor average quality\n",
      "  -i, --ignore_pos TEXT           list of positions that are ignored in the\n",
      "                                  genotype, e.g. [0,1,149,150]\n",
      "  -r, --reads_thr INTEGER         minimum number of reads required to take a\n",
      "                                  UMI into account. Using a number >2 enables\n",
      "                                  to perform error corrects for UMIs with\n",
      "                                  multiple reads\n",
      "  -o, --output TEXT               output file path\n",
      "  --help                          Show this message and exit.\n"
     ]
    }
   ],
   "source": [
    "!dgrec_genotypes --help"
   ]
  },
  {
   "cell_type": "markdown",
   "metadata": {},
   "source": [
    "### In python"
   ]
  },
  {
   "cell_type": "code",
   "execution_count": null,
   "metadata": {},
   "outputs": [],
   "source": [
    "import dgrec"
   ]
  },
  {
   "cell_type": "code",
   "execution_count": null,
   "metadata": {},
   "outputs": [],
   "source": [
    "#| hide\n",
    "data_path = dgrec.get_example_data_dir()"
   ]
  },
  {
   "cell_type": "code",
   "execution_count": null,
   "metadata": {},
   "outputs": [
    {
     "name": "stdout",
     "output_type": "stream",
     "text": [
      "n reads:\t1000\n",
      "n_reads pass filter:\t847\n",
      "n_reads aligned:\t824\n",
      "Number of UMIs: 814\n",
      "\n",
      "Number of genotypes: 123\n",
      "675\t\n",
      "3\tC56A\n",
      "3\tA76G\n",
      "3\tA91G\n",
      "3\tA91T\n",
      "2\tC69T\n",
      "2\tT122A\n",
      "2\tA91C\n",
      "2\tA105G\n",
      "2\tC116A\n",
      "2\tT60A\n",
      "2\tT59A\n",
      "2\tA68G\n",
      "2\tT134A\n",
      "1\tA61G,-63T,A76T,A91T\n",
      "1\tA79T,A91G\n",
      "1\tA61G,A72G,A76G,A79T\n",
      "1\tT108A,G127T,G132T\n",
      "1\tA48T,A86G\n",
      "1\tA61T,A68T,A72G,A79C,A91G\n"
     ]
    }
   ],
   "source": [
    "from Bio import SeqIO\n",
    "import os\n",
    "\n",
    "#Getting the path to the fastq file\n",
    "fastq_file=\"sacB_example.fastq.gz\"\n",
    "fastq_path=os.path.join(data_path,fastq_file)\n",
    "\n",
    "#Getting the reference sequence for the amplicon\n",
    "read_ref_file=\"sacB_ref.fasta\"\n",
    "ref=next(SeqIO.parse(os.path.join(data_path,read_ref_file),\"fasta\"))\n",
    "ref_seq=str(ref.seq)\n",
    "\n",
    "#Generating a list of genotypes sorted by the number of UMIs that are read for each genotype\n",
    "gen_list = dgrec.get_genotypes(fastq_path, ref_seq, ignore_pos=[0,1,2,138,139,140,141])\n",
    "\n",
    "#Printing the top results\n",
    "for g in gen_list[:20]:\n",
    "    print(f\"{g[1]}\\t{g[0]}\")"
   ]
  },
  {
   "cell_type": "code",
   "execution_count": null,
   "metadata": {},
   "outputs": [
    {
     "data": {
      "image/png": "[encoded data removed]",
      "text/plain": [
       "<Figure size 2000x500 with 1 Axes>"
      ]
     },
     "metadata": {},
     "output_type": "display_data"
    }
   ],
   "source": [
    "fig = dgrec.plot_mutations(gen_list, ref_seq, sample_name=\"sacB\", plot_range=[0,139], TR_range=[50,119])"
   ]
  }
 ],
 "metadata": {
  "kernelspec": {
   "display_name": "python3",
   "language": "python",
   "name": "python3"
  }
 },
 "nbformat": 4,
 "nbformat_minor": 4
}
