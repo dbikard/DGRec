{
 "cells": [
  {
   "cell_type": "markdown",
   "metadata": {},
   "source": [
    "# DGRec\n",
    "\n",
    "> Analysing DGRec data"
   ]
  },
  {
   "cell_type": "markdown",
   "metadata": {},
   "source": [
    "## Install"
   ]
  },
  {
   "cell_type": "markdown",
   "metadata": {},
   "source": [
    "```sh\n",
    "pip install DGRec\n",
    "```"
   ]
  },
  {
   "cell_type": "markdown",
   "metadata": {},
   "source": [
    "## How to use"
   ]
  },
  {
   "cell_type": "code",
   "execution_count": null,
   "metadata": {},
   "outputs": [],
   "source": [
    "import DGRec"
   ]
  },
  {
   "cell_type": "code",
   "execution_count": null,
   "metadata": {},
   "outputs": [],
   "source": [
    "#| hide\n",
    "data_path = DGRec.get_example_data_dir()"
   ]
  },
  {
   "cell_type": "code",
   "execution_count": null,
   "metadata": {},
   "outputs": [
    {
     "name": "stdout",
     "output_type": "stream",
     "text": [
      "n reads:\t1000\n",
      "n_reads pass filter:\t847\n",
      "n_reads aligned:\t824\n",
      "Number of UMIs: 814\n",
      "\n",
      "Number of genotypes: 123\n",
      "675\t\n",
      "3\tC56A\n",
      "3\tA76G\n",
      "3\tA91G\n",
      "3\tA91T\n",
      "2\tC69T\n",
      "2\tT122A\n",
      "2\tA91C\n",
      "2\tA105G\n",
      "2\tC116A\n",
      "2\tT60A\n",
      "2\tT59A\n",
      "2\tA68G\n",
      "2\tT134A\n",
      "1\tA61G,-63T,A76T,A91T\n",
      "1\tA79T,A91G\n",
      "1\tA61G,A72G,A76G,A79T\n",
      "1\tT108A,G127T,G132T\n",
      "1\tA48T,A86G\n",
      "1\tA61T,A68T,A72G,A79C,A91G\n"
     ]
    }
   ],
   "source": [
    "from Bio import SeqIO\n",
    "import os\n",
    "\n",
    "#Getting the path to the fastq file\n",
    "fastq_file=\"sacB_example.fastq.gz\"\n",
    "fastq_path=os.path.join(data_path,fastq_file)\n",
    "\n",
    "#Getting the reference sequence for the amplicon\n",
    "read_ref_file=\"sacB_ref.fasta\"\n",
    "ref=next(SeqIO.parse(os.path.join(data_path,read_ref_file),\"fasta\"))\n",
    "ref_seq=str(ref.seq)\n",
    "\n",
    "#Generating a list of genotypes sorted by the number of UMIs that are read for each genotype\n",
    "gen_list = DGRec.get_genotypes(fastq_path, ref_seq, ignore_pos=[0,1,2,138,139,140,141])\n",
    "\n",
    "#Printing the top results\n",
    "for g in gen_list[:20]:\n",
    "    print(f\"{g[1]}\\t{g[0]}\")"
   ]
  }
 ],
 "metadata": {
  "kernelspec": {
   "display_name": "python3",
   "language": "python",
   "name": "python3"
  }
 },
 "nbformat": 4,
 "nbformat_minor": 4
}
